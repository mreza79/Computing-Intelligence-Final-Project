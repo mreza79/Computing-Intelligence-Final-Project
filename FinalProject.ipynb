{
  "cells": [
    {
      "cell_type": "code",
      "execution_count": null,
      "metadata": {
        "colab": {
          "base_uri": "https://localhost:8080/"
        },
        "id": "AXjnLCD1776G",
        "outputId": "18f4cf55-7b4b-4371-81b0-f36d6bdd736e"
      },
      "outputs": [
        {
          "output_type": "stream",
          "name": "stdout",
          "text": [
            "Requirement already satisfied: hazm in /usr/local/lib/python3.7/dist-packages (0.7.0)\n",
            "Requirement already satisfied: nltk==3.3 in /usr/local/lib/python3.7/dist-packages (from hazm) (3.3)\n",
            "Requirement already satisfied: libwapiti>=0.2.1 in /usr/local/lib/python3.7/dist-packages (from hazm) (0.2.1)\n",
            "Requirement already satisfied: six in /usr/local/lib/python3.7/dist-packages (from nltk==3.3->hazm) (1.15.0)\n"
          ]
        }
      ],
      "source": [
        "!pip install hazm"
      ]
    },
    {
      "cell_type": "code",
      "execution_count": null,
      "metadata": {
        "id": "aM6SvD--xNco"
      },
      "outputs": [],
      "source": [
        "import pandas as pd\n",
        "import numpy as np\n",
        "import hazm\n",
        "import sklearn\n",
        "import pickle\n",
        "from sklearn import preprocessing\n",
        "from sklearn.feature_extraction.text import TfidfVectorizer\n",
        "from sklearn.model_selection import train_test_split"
      ]
    },
    {
      "cell_type": "code",
      "execution_count": null,
      "metadata": {
        "colab": {
          "base_uri": "https://localhost:8080/"
        },
        "id": "1hGTwIBexSXq",
        "outputId": "6845f367-3789-418c-88f3-c56852d07a7b"
      },
      "outputs": [
        {
          "output_type": "stream",
          "name": "stdout",
          "text": [
            "{'not_recommended', 'recommended'}\n"
          ]
        }
      ],
      "source": [
        "df = pd.read_csv('/content/drive/MyDrive/train.csv')\n",
        "df_test = pd.read_csv('/content/drive/MyDrive/CI_test.csv')\n",
        "print(set(df[\"recommend\"]))"
      ]
    },
    {
      "cell_type": "code",
      "execution_count": null,
      "metadata": {
        "colab": {
          "base_uri": "https://localhost:8080/",
          "height": 745
        },
        "id": "UOBAG_aNq0B6",
        "outputId": "b3eae791-4360-422f-a083-639b67ab3256"
      },
      "outputs": [
        {
          "output_type": "execute_result",
          "data": {
            "text/html": [
              "\n",
              "  <div id=\"df-eb2a7c1e-3c0b-4b01-afbe-f9106a6159b5\">\n",
              "    <div class=\"colab-df-container\">\n",
              "      <div>\n",
              "<style scoped>\n",
              "    .dataframe tbody tr th:only-of-type {\n",
              "        vertical-align: middle;\n",
              "    }\n",
              "\n",
              "    .dataframe tbody tr th {\n",
              "        vertical-align: top;\n",
              "    }\n",
              "\n",
              "    .dataframe thead th {\n",
              "        text-align: right;\n",
              "    }\n",
              "</style>\n",
              "<table border=\"1\" class=\"dataframe\">\n",
              "  <thead>\n",
              "    <tr style=\"text-align: right;\">\n",
              "      <th></th>\n",
              "      <th>product_id</th>\n",
              "      <th>product_title</th>\n",
              "      <th>user_id</th>\n",
              "      <th>likes</th>\n",
              "      <th>dislikes</th>\n",
              "      <th>title</th>\n",
              "      <th>comment</th>\n",
              "      <th>advantages</th>\n",
              "      <th>disadvantages</th>\n",
              "      <th>recommend</th>\n",
              "    </tr>\n",
              "  </thead>\n",
              "  <tbody>\n",
              "    <tr>\n",
              "      <th>0</th>\n",
              "      <td>90213</td>\n",
              "      <td>شارژر همراه شیاومی مدل NDY-02-AN با ظرفیت 1000...</td>\n",
              "      <td>3862150</td>\n",
              "      <td>4</td>\n",
              "      <td>1</td>\n",
              "      <td>واقعاً عالیه</td>\n",
              "      <td>سلام، قبل اینکه نظرم رو بگم میخواستم به یک موض...</td>\n",
              "      <td>[\"عمر طولانی\\r\",\"افت بسیار کم میزان شارژ\\r\",\"ا...</td>\n",
              "      <td>[\"ندارد\"]</td>\n",
              "      <td>recommended</td>\n",
              "    </tr>\n",
              "    <tr>\n",
              "      <th>1</th>\n",
              "      <td>59473</td>\n",
              "      <td>یدک پولیشر میکروفایبر مهسان مدل 20119</td>\n",
              "      <td>626843</td>\n",
              "      <td>1</td>\n",
              "      <td>0</td>\n",
              "      <td>خیلی سخت حوله اش در میاد</td>\n",
              "      <td>گیره های فلزی خیلی سخت تا میشوند و لذا حوله را...</td>\n",
              "      <td>NaN</td>\n",
              "      <td>NaN</td>\n",
              "      <td>not_recommended</td>\n",
              "    </tr>\n",
              "    <tr>\n",
              "      <th>2</th>\n",
              "      <td>133722</td>\n",
              "      <td>لپ تاپ 15 اینچی ایسوس مدل N501VW - A</td>\n",
              "      <td>497032</td>\n",
              "      <td>6</td>\n",
              "      <td>1</td>\n",
              "      <td>اقرار بیش از حد در ایراد گرفتن</td>\n",
              "      <td>سلام دوستان،،_x000D_\\nمنم مثه بعضی از دوستان ق...</td>\n",
              "      <td>[\"همه چیز که تو مشخصات اومده بجز 3 مورد کوچیک\"]</td>\n",
              "      <td>[\"تاچ پدش میتونست بهتر باشه از نظر سرعت پاسخ گ...</td>\n",
              "      <td>recommended</td>\n",
              "    </tr>\n",
              "    <tr>\n",
              "      <th>3</th>\n",
              "      <td>148509</td>\n",
              "      <td>اسپیکر بلوتوثی دیووم مدل Bluetune bean</td>\n",
              "      <td>574130</td>\n",
              "      <td>3</td>\n",
              "      <td>0</td>\n",
              "      <td>بسیار خوب</td>\n",
              "      <td>من چند سالی هست که این اسپیکرو خریدم و واقعا ح...</td>\n",
              "      <td>[\"کیفیت ساخت بسیار خوب\\r\",\"کیفیت صدا بسیار عال...</td>\n",
              "      <td>[\"ندارد\"]</td>\n",
              "      <td>recommended</td>\n",
              "    </tr>\n",
              "    <tr>\n",
              "      <th>4</th>\n",
              "      <td>5107</td>\n",
              "      <td>هارددیسک اکسترنال سیگیت مدل Backup Plus Deskto...</td>\n",
              "      <td>794316</td>\n",
              "      <td>1</td>\n",
              "      <td>0</td>\n",
              "      <td>هارد با کیفیت و ظاهر شیک</td>\n",
              "      <td>نزدیک به دو ساله که این هارد رو خریدم. استفاده...</td>\n",
              "      <td>[\"کیفیت ساخت خوب\\r\",\"ظاهر ساده و زیبا\\r\",\"صدای...</td>\n",
              "      <td>[\"عدم مقاومت در برابر ضربه\\r\",\"عدم سهولت جا به...</td>\n",
              "      <td>recommended</td>\n",
              "    </tr>\n",
              "    <tr>\n",
              "      <th>...</th>\n",
              "      <td>...</td>\n",
              "      <td>...</td>\n",
              "      <td>...</td>\n",
              "      <td>...</td>\n",
              "      <td>...</td>\n",
              "      <td>...</td>\n",
              "      <td>...</td>\n",
              "      <td>...</td>\n",
              "      <td>...</td>\n",
              "      <td>...</td>\n",
              "    </tr>\n",
              "    <tr>\n",
              "      <th>48077</th>\n",
              "      <td>842976</td>\n",
              "      <td>لیوان گامین گلس مدل محک بسته 6 عددی</td>\n",
              "      <td>2333505</td>\n",
              "      <td>10</td>\n",
              "      <td>1</td>\n",
              "      <td>بی کیفیت</td>\n",
              "      <td>کاملابی کیفیت، تو هر قیمتی اصلا ارزش خرید نداره</td>\n",
              "      <td>NaN</td>\n",
              "      <td>NaN</td>\n",
              "      <td>not_recommended</td>\n",
              "    </tr>\n",
              "    <tr>\n",
              "      <th>48078</th>\n",
              "      <td>362029</td>\n",
              "      <td>کتاب سفید و قرمز نسخه بارسلونا</td>\n",
              "      <td>8369747</td>\n",
              "      <td>0</td>\n",
              "      <td>0</td>\n",
              "      <td>عالی بود  خون دن داره</td>\n",
              "      <td>عالیییییییییییییییییییی</td>\n",
              "      <td>NaN</td>\n",
              "      <td>NaN</td>\n",
              "      <td>recommended</td>\n",
              "    </tr>\n",
              "    <tr>\n",
              "      <th>48079</th>\n",
              "      <td>818381</td>\n",
              "      <td>بالش بادی پورگونر مدل KMG</td>\n",
              "      <td>8027276</td>\n",
              "      <td>0</td>\n",
              "      <td>0</td>\n",
              "      <td>ارزش خرید نداره</td>\n",
              "      <td>اندازه بالش بسیار کوچک هست بیشتر بدرد بچه ۲ سا...</td>\n",
              "      <td>NaN</td>\n",
              "      <td>NaN</td>\n",
              "      <td>not_recommended</td>\n",
              "    </tr>\n",
              "    <tr>\n",
              "      <th>48080</th>\n",
              "      <td>549845</td>\n",
              "      <td>شید آباژور آرام مدل SH45/01</td>\n",
              "      <td>4979401</td>\n",
              "      <td>0</td>\n",
              "      <td>0</td>\n",
              "      <td>بسیار تمیز و زیبا</td>\n",
              "      <td>بسیار تمیز و زیبا...من که خیلی راضیم</td>\n",
              "      <td>[\"کاملا مطابق با عکس\\r\",\"ساخت بسیار تمیز\"]</td>\n",
              "      <td>[\"ندارد\"]</td>\n",
              "      <td>recommended</td>\n",
              "    </tr>\n",
              "    <tr>\n",
              "      <th>48081</th>\n",
              "      <td>820985</td>\n",
              "      <td>واکس کفش ساتل مدل 20 حجم 60 میلی لیتر</td>\n",
              "      <td>568208</td>\n",
              "      <td>0</td>\n",
              "      <td>0</td>\n",
              "      <td>خوبه و غلیظه</td>\n",
              "      <td>واکس خوبیه..</td>\n",
              "      <td>[\"روغنیه\"]</td>\n",
              "      <td>[\"ندیدم\"]</td>\n",
              "      <td>recommended</td>\n",
              "    </tr>\n",
              "  </tbody>\n",
              "</table>\n",
              "<p>48082 rows × 10 columns</p>\n",
              "</div>\n",
              "      <button class=\"colab-df-convert\" onclick=\"convertToInteractive('df-eb2a7c1e-3c0b-4b01-afbe-f9106a6159b5')\"\n",
              "              title=\"Convert this dataframe to an interactive table.\"\n",
              "              style=\"display:none;\">\n",
              "        \n",
              "  <svg xmlns=\"http://www.w3.org/2000/svg\" height=\"24px\"viewBox=\"0 0 24 24\"\n",
              "       width=\"24px\">\n",
              "    <path d=\"M0 0h24v24H0V0z\" fill=\"none\"/>\n",
              "    <path d=\"M18.56 5.44l.94 2.06.94-2.06 2.06-.94-2.06-.94-.94-2.06-.94 2.06-2.06.94zm-11 1L8.5 8.5l.94-2.06 2.06-.94-2.06-.94L8.5 2.5l-.94 2.06-2.06.94zm10 10l.94 2.06.94-2.06 2.06-.94-2.06-.94-.94-2.06-.94 2.06-2.06.94z\"/><path d=\"M17.41 7.96l-1.37-1.37c-.4-.4-.92-.59-1.43-.59-.52 0-1.04.2-1.43.59L10.3 9.45l-7.72 7.72c-.78.78-.78 2.05 0 2.83L4 21.41c.39.39.9.59 1.41.59.51 0 1.02-.2 1.41-.59l7.78-7.78 2.81-2.81c.8-.78.8-2.07 0-2.86zM5.41 20L4 18.59l7.72-7.72 1.47 1.35L5.41 20z\"/>\n",
              "  </svg>\n",
              "      </button>\n",
              "      \n",
              "  <style>\n",
              "    .colab-df-container {\n",
              "      display:flex;\n",
              "      flex-wrap:wrap;\n",
              "      gap: 12px;\n",
              "    }\n",
              "\n",
              "    .colab-df-convert {\n",
              "      background-color: #E8F0FE;\n",
              "      border: none;\n",
              "      border-radius: 50%;\n",
              "      cursor: pointer;\n",
              "      display: none;\n",
              "      fill: #1967D2;\n",
              "      height: 32px;\n",
              "      padding: 0 0 0 0;\n",
              "      width: 32px;\n",
              "    }\n",
              "\n",
              "    .colab-df-convert:hover {\n",
              "      background-color: #E2EBFA;\n",
              "      box-shadow: 0px 1px 2px rgba(60, 64, 67, 0.3), 0px 1px 3px 1px rgba(60, 64, 67, 0.15);\n",
              "      fill: #174EA6;\n",
              "    }\n",
              "\n",
              "    [theme=dark] .colab-df-convert {\n",
              "      background-color: #3B4455;\n",
              "      fill: #D2E3FC;\n",
              "    }\n",
              "\n",
              "    [theme=dark] .colab-df-convert:hover {\n",
              "      background-color: #434B5C;\n",
              "      box-shadow: 0px 1px 3px 1px rgba(0, 0, 0, 0.15);\n",
              "      filter: drop-shadow(0px 1px 2px rgba(0, 0, 0, 0.3));\n",
              "      fill: #FFFFFF;\n",
              "    }\n",
              "  </style>\n",
              "\n",
              "      <script>\n",
              "        const buttonEl =\n",
              "          document.querySelector('#df-eb2a7c1e-3c0b-4b01-afbe-f9106a6159b5 button.colab-df-convert');\n",
              "        buttonEl.style.display =\n",
              "          google.colab.kernel.accessAllowed ? 'block' : 'none';\n",
              "\n",
              "        async function convertToInteractive(key) {\n",
              "          const element = document.querySelector('#df-eb2a7c1e-3c0b-4b01-afbe-f9106a6159b5');\n",
              "          const dataTable =\n",
              "            await google.colab.kernel.invokeFunction('convertToInteractive',\n",
              "                                                     [key], {});\n",
              "          if (!dataTable) return;\n",
              "\n",
              "          const docLinkHtml = 'Like what you see? Visit the ' +\n",
              "            '<a target=\"_blank\" href=https://colab.research.google.com/notebooks/data_table.ipynb>data table notebook</a>'\n",
              "            + ' to learn more about interactive tables.';\n",
              "          element.innerHTML = '';\n",
              "          dataTable['output_type'] = 'display_data';\n",
              "          await google.colab.output.renderOutput(dataTable, element);\n",
              "          const docLink = document.createElement('div');\n",
              "          docLink.innerHTML = docLinkHtml;\n",
              "          element.appendChild(docLink);\n",
              "        }\n",
              "      </script>\n",
              "    </div>\n",
              "  </div>\n",
              "  "
            ],
            "text/plain": [
              "       product_id  ...        recommend\n",
              "0           90213  ...      recommended\n",
              "1           59473  ...  not_recommended\n",
              "2          133722  ...      recommended\n",
              "3          148509  ...      recommended\n",
              "4            5107  ...      recommended\n",
              "...           ...  ...              ...\n",
              "48077      842976  ...  not_recommended\n",
              "48078      362029  ...      recommended\n",
              "48079      818381  ...  not_recommended\n",
              "48080      549845  ...      recommended\n",
              "48081      820985  ...      recommended\n",
              "\n",
              "[48082 rows x 10 columns]"
            ]
          },
          "metadata": {},
          "execution_count": 4
        }
      ],
      "source": [
        "df"
      ]
    },
    {
      "cell_type": "code",
      "execution_count": null,
      "metadata": {
        "colab": {
          "base_uri": "https://localhost:8080/",
          "height": 624
        },
        "id": "KHMTUfA4pNsX",
        "outputId": "9b8b0429-3433-40d7-9613-cff3b0b826f8"
      },
      "outputs": [
        {
          "output_type": "execute_result",
          "data": {
            "text/html": [
              "\n",
              "  <div id=\"df-d644b406-3aff-454b-b12f-cc3ad41c81fb\">\n",
              "    <div class=\"colab-df-container\">\n",
              "      <div>\n",
              "<style scoped>\n",
              "    .dataframe tbody tr th:only-of-type {\n",
              "        vertical-align: middle;\n",
              "    }\n",
              "\n",
              "    .dataframe tbody tr th {\n",
              "        vertical-align: top;\n",
              "    }\n",
              "\n",
              "    .dataframe thead th {\n",
              "        text-align: right;\n",
              "    }\n",
              "</style>\n",
              "<table border=\"1\" class=\"dataframe\">\n",
              "  <thead>\n",
              "    <tr style=\"text-align: right;\">\n",
              "      <th></th>\n",
              "      <th>id</th>\n",
              "      <th>product_id</th>\n",
              "      <th>product_title</th>\n",
              "      <th>user_id</th>\n",
              "      <th>likes</th>\n",
              "      <th>dislikes</th>\n",
              "      <th>title</th>\n",
              "      <th>comment</th>\n",
              "      <th>advantages</th>\n",
              "      <th>disadvantages</th>\n",
              "    </tr>\n",
              "  </thead>\n",
              "  <tbody>\n",
              "    <tr>\n",
              "      <th>0</th>\n",
              "      <td>1</td>\n",
              "      <td>146879</td>\n",
              "      <td>فلاسک غذا خودرو بلک اند دکر مدل BDV212F</td>\n",
              "      <td>2838703</td>\n",
              "      <td>15</td>\n",
              "      <td>12</td>\n",
              "      <td>فقط مناسب سفر طولانی</td>\n",
              "      <td>با توجه به قدرت خنک کنندگی حداقل ۲ ساعت زمان ل...</td>\n",
              "      <td>NaN</td>\n",
              "      <td>NaN</td>\n",
              "    </tr>\n",
              "    <tr>\n",
              "      <th>1</th>\n",
              "      <td>2</td>\n",
              "      <td>120648</td>\n",
              "      <td>ادو تویلت مردانه آنتونیو باندراس مدل The Golde...</td>\n",
              "      <td>1307120</td>\n",
              "      <td>5</td>\n",
              "      <td>3</td>\n",
              "      <td>خوش بو</td>\n",
              "      <td>بسیار خوش بو ولی ماندگاری در حد یک ساعت ، با ا...</td>\n",
              "      <td>NaN</td>\n",
              "      <td>NaN</td>\n",
              "    </tr>\n",
              "    <tr>\n",
              "      <th>2</th>\n",
              "      <td>3</td>\n",
              "      <td>76932</td>\n",
              "      <td>محلول تقویت و رشد ابرو لامینین 12ml</td>\n",
              "      <td>2724686</td>\n",
              "      <td>8</td>\n",
              "      <td>3</td>\n",
              "      <td>بدون فایده</td>\n",
              "      <td>اصلا تأثیری نداشت</td>\n",
              "      <td>NaN</td>\n",
              "      <td>NaN</td>\n",
              "    </tr>\n",
              "    <tr>\n",
              "      <th>3</th>\n",
              "      <td>4</td>\n",
              "      <td>179072</td>\n",
              "      <td>فن هیتر فلر مدل HFC201</td>\n",
              "      <td>2499534</td>\n",
              "      <td>5</td>\n",
              "      <td>0</td>\n",
              "      <td>NaN</td>\n",
              "      <td>کیفیت بدنه خیلی خوبی داره._x000D_\\nوقتی در جای...</td>\n",
              "      <td>NaN</td>\n",
              "      <td>NaN</td>\n",
              "    </tr>\n",
              "    <tr>\n",
              "      <th>4</th>\n",
              "      <td>5</td>\n",
              "      <td>184047</td>\n",
              "      <td>گوشی موبایل آنر مدل 6X BLN-L21 دو سیم‌ کارت</td>\n",
              "      <td>906159</td>\n",
              "      <td>19</td>\n",
              "      <td>4</td>\n",
              "      <td>فوق العاده در یک کلام</td>\n",
              "      <td>دو ساله استفاده میکنم، واقعاً هیچ کجا برام کم ...</td>\n",
              "      <td>[\"حسگر فوق‌العاده اثرانگشت \\r\",\"قابلیت تنظیم ف...</td>\n",
              "      <td>NaN</td>\n",
              "    </tr>\n",
              "    <tr>\n",
              "      <th>...</th>\n",
              "      <td>...</td>\n",
              "      <td>...</td>\n",
              "      <td>...</td>\n",
              "      <td>...</td>\n",
              "      <td>...</td>\n",
              "      <td>...</td>\n",
              "      <td>...</td>\n",
              "      <td>...</td>\n",
              "      <td>...</td>\n",
              "      <td>...</td>\n",
              "    </tr>\n",
              "    <tr>\n",
              "      <th>4995</th>\n",
              "      <td>4996</td>\n",
              "      <td>106518</td>\n",
              "      <td>بخار شوی کرشر مدل SC2 Premium</td>\n",
              "      <td>4477666</td>\n",
              "      <td>0</td>\n",
              "      <td>1</td>\n",
              "      <td>خریدشو پبشنهاد میکنم</td>\n",
              "      <td>من از دی جی کالا خریدم خیلی عالیه._x000D_\\nپیش...</td>\n",
              "      <td>[\"قدرت پرتاب بخار بالا\"]</td>\n",
              "      <td>[\"به نظر من نداره\"]</td>\n",
              "    </tr>\n",
              "    <tr>\n",
              "      <th>4996</th>\n",
              "      <td>4997</td>\n",
              "      <td>326261</td>\n",
              "      <td>ظرف نگهدارنده رویچن مدل Crystal Kankan بسته10 ...</td>\n",
              "      <td>1390121</td>\n",
              "      <td>2</td>\n",
              "      <td>0</td>\n",
              "      <td>کاربردی و خوب</td>\n",
              "      <td>خیلی خوبه._x000D_\\nاندازه هاش کاربردی و عالیه</td>\n",
              "      <td>NaN</td>\n",
              "      <td>NaN</td>\n",
              "    </tr>\n",
              "    <tr>\n",
              "      <th>4997</th>\n",
              "      <td>4998</td>\n",
              "      <td>195433</td>\n",
              "      <td>کرم براق کننده موی سر مدل A Plus E مقدار 120 گرم</td>\n",
              "      <td>2359378</td>\n",
              "      <td>0</td>\n",
              "      <td>0</td>\n",
              "      <td>یه جنس ایرانی خوب</td>\n",
              "      <td>چرب کردن مو باعث جلوگیری از سفیدی زودرس و پیری...</td>\n",
              "      <td>[\"بوی مطبوع و خوب\\r\",\"حجم زیاد \\r\",\"چربی کم و ...</td>\n",
              "      <td>[\"ضعف آنچنانی ندارد\"]</td>\n",
              "    </tr>\n",
              "    <tr>\n",
              "      <th>4998</th>\n",
              "      <td>4999</td>\n",
              "      <td>590683</td>\n",
              "      <td>کاور کوالا مدل Round TPU مناسب برای گوشی موبای...</td>\n",
              "      <td>7622063</td>\n",
              "      <td>0</td>\n",
              "      <td>0</td>\n",
              "      <td>خرابی</td>\n",
              "      <td>بعداز  یک ماه زرد میشه از هم در میره</td>\n",
              "      <td>[\"طراحی خوب\"]</td>\n",
              "      <td>[\"رنگ رفتن \\r\",\"خراب شدن\"]</td>\n",
              "    </tr>\n",
              "    <tr>\n",
              "      <th>4999</th>\n",
              "      <td>5000</td>\n",
              "      <td>173039</td>\n",
              "      <td>هواکش لوله ای دمنده سری هایلوکس مدل VDI-15S2S</td>\n",
              "      <td>981594</td>\n",
              "      <td>0</td>\n",
              "      <td>0</td>\n",
              "      <td>سلام</td>\n",
              "      <td>من با قیمت ارزون خریدم. ولی کیفیت و کارایی و د...</td>\n",
              "      <td>NaN</td>\n",
              "      <td>NaN</td>\n",
              "    </tr>\n",
              "  </tbody>\n",
              "</table>\n",
              "<p>5000 rows × 10 columns</p>\n",
              "</div>\n",
              "      <button class=\"colab-df-convert\" onclick=\"convertToInteractive('df-d644b406-3aff-454b-b12f-cc3ad41c81fb')\"\n",
              "              title=\"Convert this dataframe to an interactive table.\"\n",
              "              style=\"display:none;\">\n",
              "        \n",
              "  <svg xmlns=\"http://www.w3.org/2000/svg\" height=\"24px\"viewBox=\"0 0 24 24\"\n",
              "       width=\"24px\">\n",
              "    <path d=\"M0 0h24v24H0V0z\" fill=\"none\"/>\n",
              "    <path d=\"M18.56 5.44l.94 2.06.94-2.06 2.06-.94-2.06-.94-.94-2.06-.94 2.06-2.06.94zm-11 1L8.5 8.5l.94-2.06 2.06-.94-2.06-.94L8.5 2.5l-.94 2.06-2.06.94zm10 10l.94 2.06.94-2.06 2.06-.94-2.06-.94-.94-2.06-.94 2.06-2.06.94z\"/><path d=\"M17.41 7.96l-1.37-1.37c-.4-.4-.92-.59-1.43-.59-.52 0-1.04.2-1.43.59L10.3 9.45l-7.72 7.72c-.78.78-.78 2.05 0 2.83L4 21.41c.39.39.9.59 1.41.59.51 0 1.02-.2 1.41-.59l7.78-7.78 2.81-2.81c.8-.78.8-2.07 0-2.86zM5.41 20L4 18.59l7.72-7.72 1.47 1.35L5.41 20z\"/>\n",
              "  </svg>\n",
              "      </button>\n",
              "      \n",
              "  <style>\n",
              "    .colab-df-container {\n",
              "      display:flex;\n",
              "      flex-wrap:wrap;\n",
              "      gap: 12px;\n",
              "    }\n",
              "\n",
              "    .colab-df-convert {\n",
              "      background-color: #E8F0FE;\n",
              "      border: none;\n",
              "      border-radius: 50%;\n",
              "      cursor: pointer;\n",
              "      display: none;\n",
              "      fill: #1967D2;\n",
              "      height: 32px;\n",
              "      padding: 0 0 0 0;\n",
              "      width: 32px;\n",
              "    }\n",
              "\n",
              "    .colab-df-convert:hover {\n",
              "      background-color: #E2EBFA;\n",
              "      box-shadow: 0px 1px 2px rgba(60, 64, 67, 0.3), 0px 1px 3px 1px rgba(60, 64, 67, 0.15);\n",
              "      fill: #174EA6;\n",
              "    }\n",
              "\n",
              "    [theme=dark] .colab-df-convert {\n",
              "      background-color: #3B4455;\n",
              "      fill: #D2E3FC;\n",
              "    }\n",
              "\n",
              "    [theme=dark] .colab-df-convert:hover {\n",
              "      background-color: #434B5C;\n",
              "      box-shadow: 0px 1px 3px 1px rgba(0, 0, 0, 0.15);\n",
              "      filter: drop-shadow(0px 1px 2px rgba(0, 0, 0, 0.3));\n",
              "      fill: #FFFFFF;\n",
              "    }\n",
              "  </style>\n",
              "\n",
              "      <script>\n",
              "        const buttonEl =\n",
              "          document.querySelector('#df-d644b406-3aff-454b-b12f-cc3ad41c81fb button.colab-df-convert');\n",
              "        buttonEl.style.display =\n",
              "          google.colab.kernel.accessAllowed ? 'block' : 'none';\n",
              "\n",
              "        async function convertToInteractive(key) {\n",
              "          const element = document.querySelector('#df-d644b406-3aff-454b-b12f-cc3ad41c81fb');\n",
              "          const dataTable =\n",
              "            await google.colab.kernel.invokeFunction('convertToInteractive',\n",
              "                                                     [key], {});\n",
              "          if (!dataTable) return;\n",
              "\n",
              "          const docLinkHtml = 'Like what you see? Visit the ' +\n",
              "            '<a target=\"_blank\" href=https://colab.research.google.com/notebooks/data_table.ipynb>data table notebook</a>'\n",
              "            + ' to learn more about interactive tables.';\n",
              "          element.innerHTML = '';\n",
              "          dataTable['output_type'] = 'display_data';\n",
              "          await google.colab.output.renderOutput(dataTable, element);\n",
              "          const docLink = document.createElement('div');\n",
              "          docLink.innerHTML = docLinkHtml;\n",
              "          element.appendChild(docLink);\n",
              "        }\n",
              "      </script>\n",
              "    </div>\n",
              "  </div>\n",
              "  "
            ],
            "text/plain": [
              "        id  ...               disadvantages\n",
              "0        1  ...                         NaN\n",
              "1        2  ...                         NaN\n",
              "2        3  ...                         NaN\n",
              "3        4  ...                         NaN\n",
              "4        5  ...                         NaN\n",
              "...    ...  ...                         ...\n",
              "4995  4996  ...         [\"به نظر من نداره\"]\n",
              "4996  4997  ...                         NaN\n",
              "4997  4998  ...       [\"ضعف آنچنانی ندارد\"]\n",
              "4998  4999  ...  [\"رنگ رفتن \\r\",\"خراب شدن\"]\n",
              "4999  5000  ...                         NaN\n",
              "\n",
              "[5000 rows x 10 columns]"
            ]
          },
          "metadata": {},
          "execution_count": 5
        }
      ],
      "source": [
        "df_test"
      ]
    },
    {
      "cell_type": "code",
      "execution_count": null,
      "metadata": {
        "id": "hYCD93OZx4ia"
      },
      "outputs": [],
      "source": [
        "df = pd.DataFrame(df, columns=[\"title\", \"comment\",\"recommend\"])\n",
        "df_test = pd.DataFrame(df_test, columns=[\"title\", \"comment\",\"recommend\"])"
      ]
    },
    {
      "cell_type": "code",
      "execution_count": null,
      "metadata": {
        "colab": {
          "base_uri": "https://localhost:8080/",
          "height": 424
        },
        "id": "i4o_sKDwpWgF",
        "outputId": "8dbcc267-8ef4-4163-ace4-5173409275ee"
      },
      "outputs": [
        {
          "output_type": "execute_result",
          "data": {
            "text/html": [
              "\n",
              "  <div id=\"df-ddba0dc5-f3fc-4361-b359-11dc1fcefdfa\">\n",
              "    <div class=\"colab-df-container\">\n",
              "      <div>\n",
              "<style scoped>\n",
              "    .dataframe tbody tr th:only-of-type {\n",
              "        vertical-align: middle;\n",
              "    }\n",
              "\n",
              "    .dataframe tbody tr th {\n",
              "        vertical-align: top;\n",
              "    }\n",
              "\n",
              "    .dataframe thead th {\n",
              "        text-align: right;\n",
              "    }\n",
              "</style>\n",
              "<table border=\"1\" class=\"dataframe\">\n",
              "  <thead>\n",
              "    <tr style=\"text-align: right;\">\n",
              "      <th></th>\n",
              "      <th>title</th>\n",
              "      <th>comment</th>\n",
              "      <th>recommend</th>\n",
              "    </tr>\n",
              "  </thead>\n",
              "  <tbody>\n",
              "    <tr>\n",
              "      <th>0</th>\n",
              "      <td>فقط مناسب سفر طولانی</td>\n",
              "      <td>با توجه به قدرت خنک کنندگی حداقل ۲ ساعت زمان ل...</td>\n",
              "      <td>NaN</td>\n",
              "    </tr>\n",
              "    <tr>\n",
              "      <th>1</th>\n",
              "      <td>خوش بو</td>\n",
              "      <td>بسیار خوش بو ولی ماندگاری در حد یک ساعت ، با ا...</td>\n",
              "      <td>NaN</td>\n",
              "    </tr>\n",
              "    <tr>\n",
              "      <th>2</th>\n",
              "      <td>بدون فایده</td>\n",
              "      <td>اصلا تأثیری نداشت</td>\n",
              "      <td>NaN</td>\n",
              "    </tr>\n",
              "    <tr>\n",
              "      <th>3</th>\n",
              "      <td>NaN</td>\n",
              "      <td>کیفیت بدنه خیلی خوبی داره._x000D_\\nوقتی در جای...</td>\n",
              "      <td>NaN</td>\n",
              "    </tr>\n",
              "    <tr>\n",
              "      <th>4</th>\n",
              "      <td>فوق العاده در یک کلام</td>\n",
              "      <td>دو ساله استفاده میکنم، واقعاً هیچ کجا برام کم ...</td>\n",
              "      <td>NaN</td>\n",
              "    </tr>\n",
              "    <tr>\n",
              "      <th>...</th>\n",
              "      <td>...</td>\n",
              "      <td>...</td>\n",
              "      <td>...</td>\n",
              "    </tr>\n",
              "    <tr>\n",
              "      <th>4995</th>\n",
              "      <td>خریدشو پبشنهاد میکنم</td>\n",
              "      <td>من از دی جی کالا خریدم خیلی عالیه._x000D_\\nپیش...</td>\n",
              "      <td>NaN</td>\n",
              "    </tr>\n",
              "    <tr>\n",
              "      <th>4996</th>\n",
              "      <td>کاربردی و خوب</td>\n",
              "      <td>خیلی خوبه._x000D_\\nاندازه هاش کاربردی و عالیه</td>\n",
              "      <td>NaN</td>\n",
              "    </tr>\n",
              "    <tr>\n",
              "      <th>4997</th>\n",
              "      <td>یه جنس ایرانی خوب</td>\n",
              "      <td>چرب کردن مو باعث جلوگیری از سفیدی زودرس و پیری...</td>\n",
              "      <td>NaN</td>\n",
              "    </tr>\n",
              "    <tr>\n",
              "      <th>4998</th>\n",
              "      <td>خرابی</td>\n",
              "      <td>بعداز  یک ماه زرد میشه از هم در میره</td>\n",
              "      <td>NaN</td>\n",
              "    </tr>\n",
              "    <tr>\n",
              "      <th>4999</th>\n",
              "      <td>سلام</td>\n",
              "      <td>من با قیمت ارزون خریدم. ولی کیفیت و کارایی و د...</td>\n",
              "      <td>NaN</td>\n",
              "    </tr>\n",
              "  </tbody>\n",
              "</table>\n",
              "<p>5000 rows × 3 columns</p>\n",
              "</div>\n",
              "      <button class=\"colab-df-convert\" onclick=\"convertToInteractive('df-ddba0dc5-f3fc-4361-b359-11dc1fcefdfa')\"\n",
              "              title=\"Convert this dataframe to an interactive table.\"\n",
              "              style=\"display:none;\">\n",
              "        \n",
              "  <svg xmlns=\"http://www.w3.org/2000/svg\" height=\"24px\"viewBox=\"0 0 24 24\"\n",
              "       width=\"24px\">\n",
              "    <path d=\"M0 0h24v24H0V0z\" fill=\"none\"/>\n",
              "    <path d=\"M18.56 5.44l.94 2.06.94-2.06 2.06-.94-2.06-.94-.94-2.06-.94 2.06-2.06.94zm-11 1L8.5 8.5l.94-2.06 2.06-.94-2.06-.94L8.5 2.5l-.94 2.06-2.06.94zm10 10l.94 2.06.94-2.06 2.06-.94-2.06-.94-.94-2.06-.94 2.06-2.06.94z\"/><path d=\"M17.41 7.96l-1.37-1.37c-.4-.4-.92-.59-1.43-.59-.52 0-1.04.2-1.43.59L10.3 9.45l-7.72 7.72c-.78.78-.78 2.05 0 2.83L4 21.41c.39.39.9.59 1.41.59.51 0 1.02-.2 1.41-.59l7.78-7.78 2.81-2.81c.8-.78.8-2.07 0-2.86zM5.41 20L4 18.59l7.72-7.72 1.47 1.35L5.41 20z\"/>\n",
              "  </svg>\n",
              "      </button>\n",
              "      \n",
              "  <style>\n",
              "    .colab-df-container {\n",
              "      display:flex;\n",
              "      flex-wrap:wrap;\n",
              "      gap: 12px;\n",
              "    }\n",
              "\n",
              "    .colab-df-convert {\n",
              "      background-color: #E8F0FE;\n",
              "      border: none;\n",
              "      border-radius: 50%;\n",
              "      cursor: pointer;\n",
              "      display: none;\n",
              "      fill: #1967D2;\n",
              "      height: 32px;\n",
              "      padding: 0 0 0 0;\n",
              "      width: 32px;\n",
              "    }\n",
              "\n",
              "    .colab-df-convert:hover {\n",
              "      background-color: #E2EBFA;\n",
              "      box-shadow: 0px 1px 2px rgba(60, 64, 67, 0.3), 0px 1px 3px 1px rgba(60, 64, 67, 0.15);\n",
              "      fill: #174EA6;\n",
              "    }\n",
              "\n",
              "    [theme=dark] .colab-df-convert {\n",
              "      background-color: #3B4455;\n",
              "      fill: #D2E3FC;\n",
              "    }\n",
              "\n",
              "    [theme=dark] .colab-df-convert:hover {\n",
              "      background-color: #434B5C;\n",
              "      box-shadow: 0px 1px 3px 1px rgba(0, 0, 0, 0.15);\n",
              "      filter: drop-shadow(0px 1px 2px rgba(0, 0, 0, 0.3));\n",
              "      fill: #FFFFFF;\n",
              "    }\n",
              "  </style>\n",
              "\n",
              "      <script>\n",
              "        const buttonEl =\n",
              "          document.querySelector('#df-ddba0dc5-f3fc-4361-b359-11dc1fcefdfa button.colab-df-convert');\n",
              "        buttonEl.style.display =\n",
              "          google.colab.kernel.accessAllowed ? 'block' : 'none';\n",
              "\n",
              "        async function convertToInteractive(key) {\n",
              "          const element = document.querySelector('#df-ddba0dc5-f3fc-4361-b359-11dc1fcefdfa');\n",
              "          const dataTable =\n",
              "            await google.colab.kernel.invokeFunction('convertToInteractive',\n",
              "                                                     [key], {});\n",
              "          if (!dataTable) return;\n",
              "\n",
              "          const docLinkHtml = 'Like what you see? Visit the ' +\n",
              "            '<a target=\"_blank\" href=https://colab.research.google.com/notebooks/data_table.ipynb>data table notebook</a>'\n",
              "            + ' to learn more about interactive tables.';\n",
              "          element.innerHTML = '';\n",
              "          dataTable['output_type'] = 'display_data';\n",
              "          await google.colab.output.renderOutput(dataTable, element);\n",
              "          const docLink = document.createElement('div');\n",
              "          docLink.innerHTML = docLinkHtml;\n",
              "          element.appendChild(docLink);\n",
              "        }\n",
              "      </script>\n",
              "    </div>\n",
              "  </div>\n",
              "  "
            ],
            "text/plain": [
              "                      title  ... recommend\n",
              "0      فقط مناسب سفر طولانی  ...       NaN\n",
              "1                    خوش بو  ...       NaN\n",
              "2                بدون فایده  ...       NaN\n",
              "3                       NaN  ...       NaN\n",
              "4     فوق العاده در یک کلام  ...       NaN\n",
              "...                     ...  ...       ...\n",
              "4995   خریدشو پبشنهاد میکنم  ...       NaN\n",
              "4996          کاربردی و خوب  ...       NaN\n",
              "4997      یه جنس ایرانی خوب  ...       NaN\n",
              "4998                  خرابی  ...       NaN\n",
              "4999                   سلام  ...       NaN\n",
              "\n",
              "[5000 rows x 3 columns]"
            ]
          },
          "metadata": {},
          "execution_count": 7
        }
      ],
      "source": [
        "df_test"
      ]
    },
    {
      "cell_type": "code",
      "execution_count": null,
      "metadata": {
        "id": "oE2JZSCiwo-0"
      },
      "outputs": [],
      "source": [
        "nan_value = float(\"NaN\")\n",
        "df_test.replace(nan_value, \"\", inplace=True)\n",
        "df.replace(nan_value, \"\", inplace=True)"
      ]
    },
    {
      "cell_type": "code",
      "execution_count": null,
      "metadata": {
        "colab": {
          "base_uri": "https://localhost:8080/",
          "height": 424
        },
        "id": "1aX9_jgxAYZ4",
        "outputId": "80f32e94-6fbb-4e1a-bef6-5f9442d19524"
      },
      "outputs": [
        {
          "output_type": "execute_result",
          "data": {
            "text/html": [
              "\n",
              "  <div id=\"df-6d64ae62-7260-4b3c-a620-f04323cc6e1b\">\n",
              "    <div class=\"colab-df-container\">\n",
              "      <div>\n",
              "<style scoped>\n",
              "    .dataframe tbody tr th:only-of-type {\n",
              "        vertical-align: middle;\n",
              "    }\n",
              "\n",
              "    .dataframe tbody tr th {\n",
              "        vertical-align: top;\n",
              "    }\n",
              "\n",
              "    .dataframe thead th {\n",
              "        text-align: right;\n",
              "    }\n",
              "</style>\n",
              "<table border=\"1\" class=\"dataframe\">\n",
              "  <thead>\n",
              "    <tr style=\"text-align: right;\">\n",
              "      <th></th>\n",
              "      <th>title</th>\n",
              "      <th>comment</th>\n",
              "      <th>recommend</th>\n",
              "    </tr>\n",
              "  </thead>\n",
              "  <tbody>\n",
              "    <tr>\n",
              "      <th>0</th>\n",
              "      <td>واقعاً عالیه</td>\n",
              "      <td>سلام، قبل اینکه نظرم رو بگم میخواستم به یک موض...</td>\n",
              "      <td>recommended</td>\n",
              "    </tr>\n",
              "    <tr>\n",
              "      <th>1</th>\n",
              "      <td>خیلی سخت حوله اش در میاد</td>\n",
              "      <td>گیره های فلزی خیلی سخت تا میشوند و لذا حوله را...</td>\n",
              "      <td>not_recommended</td>\n",
              "    </tr>\n",
              "    <tr>\n",
              "      <th>2</th>\n",
              "      <td>اقرار بیش از حد در ایراد گرفتن</td>\n",
              "      <td>سلام دوستان،،_x000D_\\nمنم مثه بعضی از دوستان ق...</td>\n",
              "      <td>recommended</td>\n",
              "    </tr>\n",
              "    <tr>\n",
              "      <th>3</th>\n",
              "      <td>بسیار خوب</td>\n",
              "      <td>من چند سالی هست که این اسپیکرو خریدم و واقعا ح...</td>\n",
              "      <td>recommended</td>\n",
              "    </tr>\n",
              "    <tr>\n",
              "      <th>4</th>\n",
              "      <td>هارد با کیفیت و ظاهر شیک</td>\n",
              "      <td>نزدیک به دو ساله که این هارد رو خریدم. استفاده...</td>\n",
              "      <td>recommended</td>\n",
              "    </tr>\n",
              "    <tr>\n",
              "      <th>...</th>\n",
              "      <td>...</td>\n",
              "      <td>...</td>\n",
              "      <td>...</td>\n",
              "    </tr>\n",
              "    <tr>\n",
              "      <th>48077</th>\n",
              "      <td>بی کیفیت</td>\n",
              "      <td>کاملابی کیفیت، تو هر قیمتی اصلا ارزش خرید نداره</td>\n",
              "      <td>not_recommended</td>\n",
              "    </tr>\n",
              "    <tr>\n",
              "      <th>48078</th>\n",
              "      <td>عالی بود  خون دن داره</td>\n",
              "      <td>عالیییییییییییییییییییی</td>\n",
              "      <td>recommended</td>\n",
              "    </tr>\n",
              "    <tr>\n",
              "      <th>48079</th>\n",
              "      <td>ارزش خرید نداره</td>\n",
              "      <td>اندازه بالش بسیار کوچک هست بیشتر بدرد بچه ۲ سا...</td>\n",
              "      <td>not_recommended</td>\n",
              "    </tr>\n",
              "    <tr>\n",
              "      <th>48080</th>\n",
              "      <td>بسیار تمیز و زیبا</td>\n",
              "      <td>بسیار تمیز و زیبا...من که خیلی راضیم</td>\n",
              "      <td>recommended</td>\n",
              "    </tr>\n",
              "    <tr>\n",
              "      <th>48081</th>\n",
              "      <td>خوبه و غلیظه</td>\n",
              "      <td>واکس خوبیه..</td>\n",
              "      <td>recommended</td>\n",
              "    </tr>\n",
              "  </tbody>\n",
              "</table>\n",
              "<p>48082 rows × 3 columns</p>\n",
              "</div>\n",
              "      <button class=\"colab-df-convert\" onclick=\"convertToInteractive('df-6d64ae62-7260-4b3c-a620-f04323cc6e1b')\"\n",
              "              title=\"Convert this dataframe to an interactive table.\"\n",
              "              style=\"display:none;\">\n",
              "        \n",
              "  <svg xmlns=\"http://www.w3.org/2000/svg\" height=\"24px\"viewBox=\"0 0 24 24\"\n",
              "       width=\"24px\">\n",
              "    <path d=\"M0 0h24v24H0V0z\" fill=\"none\"/>\n",
              "    <path d=\"M18.56 5.44l.94 2.06.94-2.06 2.06-.94-2.06-.94-.94-2.06-.94 2.06-2.06.94zm-11 1L8.5 8.5l.94-2.06 2.06-.94-2.06-.94L8.5 2.5l-.94 2.06-2.06.94zm10 10l.94 2.06.94-2.06 2.06-.94-2.06-.94-.94-2.06-.94 2.06-2.06.94z\"/><path d=\"M17.41 7.96l-1.37-1.37c-.4-.4-.92-.59-1.43-.59-.52 0-1.04.2-1.43.59L10.3 9.45l-7.72 7.72c-.78.78-.78 2.05 0 2.83L4 21.41c.39.39.9.59 1.41.59.51 0 1.02-.2 1.41-.59l7.78-7.78 2.81-2.81c.8-.78.8-2.07 0-2.86zM5.41 20L4 18.59l7.72-7.72 1.47 1.35L5.41 20z\"/>\n",
              "  </svg>\n",
              "      </button>\n",
              "      \n",
              "  <style>\n",
              "    .colab-df-container {\n",
              "      display:flex;\n",
              "      flex-wrap:wrap;\n",
              "      gap: 12px;\n",
              "    }\n",
              "\n",
              "    .colab-df-convert {\n",
              "      background-color: #E8F0FE;\n",
              "      border: none;\n",
              "      border-radius: 50%;\n",
              "      cursor: pointer;\n",
              "      display: none;\n",
              "      fill: #1967D2;\n",
              "      height: 32px;\n",
              "      padding: 0 0 0 0;\n",
              "      width: 32px;\n",
              "    }\n",
              "\n",
              "    .colab-df-convert:hover {\n",
              "      background-color: #E2EBFA;\n",
              "      box-shadow: 0px 1px 2px rgba(60, 64, 67, 0.3), 0px 1px 3px 1px rgba(60, 64, 67, 0.15);\n",
              "      fill: #174EA6;\n",
              "    }\n",
              "\n",
              "    [theme=dark] .colab-df-convert {\n",
              "      background-color: #3B4455;\n",
              "      fill: #D2E3FC;\n",
              "    }\n",
              "\n",
              "    [theme=dark] .colab-df-convert:hover {\n",
              "      background-color: #434B5C;\n",
              "      box-shadow: 0px 1px 3px 1px rgba(0, 0, 0, 0.15);\n",
              "      filter: drop-shadow(0px 1px 2px rgba(0, 0, 0, 0.3));\n",
              "      fill: #FFFFFF;\n",
              "    }\n",
              "  </style>\n",
              "\n",
              "      <script>\n",
              "        const buttonEl =\n",
              "          document.querySelector('#df-6d64ae62-7260-4b3c-a620-f04323cc6e1b button.colab-df-convert');\n",
              "        buttonEl.style.display =\n",
              "          google.colab.kernel.accessAllowed ? 'block' : 'none';\n",
              "\n",
              "        async function convertToInteractive(key) {\n",
              "          const element = document.querySelector('#df-6d64ae62-7260-4b3c-a620-f04323cc6e1b');\n",
              "          const dataTable =\n",
              "            await google.colab.kernel.invokeFunction('convertToInteractive',\n",
              "                                                     [key], {});\n",
              "          if (!dataTable) return;\n",
              "\n",
              "          const docLinkHtml = 'Like what you see? Visit the ' +\n",
              "            '<a target=\"_blank\" href=https://colab.research.google.com/notebooks/data_table.ipynb>data table notebook</a>'\n",
              "            + ' to learn more about interactive tables.';\n",
              "          element.innerHTML = '';\n",
              "          dataTable['output_type'] = 'display_data';\n",
              "          await google.colab.output.renderOutput(dataTable, element);\n",
              "          const docLink = document.createElement('div');\n",
              "          docLink.innerHTML = docLinkHtml;\n",
              "          element.appendChild(docLink);\n",
              "        }\n",
              "      </script>\n",
              "    </div>\n",
              "  </div>\n",
              "  "
            ],
            "text/plain": [
              "                                title  ...        recommend\n",
              "0                        واقعاً عالیه  ...      recommended\n",
              "1            خیلی سخت حوله اش در میاد  ...  not_recommended\n",
              "2      اقرار بیش از حد در ایراد گرفتن  ...      recommended\n",
              "3                           بسیار خوب  ...      recommended\n",
              "4            هارد با کیفیت و ظاهر شیک  ...      recommended\n",
              "...                               ...  ...              ...\n",
              "48077                        بی کیفیت  ...  not_recommended\n",
              "48078           عالی بود  خون دن داره  ...      recommended\n",
              "48079                 ارزش خرید نداره  ...  not_recommended\n",
              "48080               بسیار تمیز و زیبا  ...      recommended\n",
              "48081                    خوبه و غلیظه  ...      recommended\n",
              "\n",
              "[48082 rows x 3 columns]"
            ]
          },
          "metadata": {},
          "execution_count": 9
        }
      ],
      "source": [
        "df"
      ]
    },
    {
      "cell_type": "code",
      "execution_count": null,
      "metadata": {
        "id": "pqTvzP4w66tW"
      },
      "outputs": [],
      "source": [
        "Y = df[\"recommend\"].values"
      ]
    },
    {
      "cell_type": "code",
      "execution_count": null,
      "metadata": {
        "colab": {
          "base_uri": "https://localhost:8080/"
        },
        "id": "QOSH3dpnAPqz",
        "outputId": "c71970d4-0dfd-4e0b-e8c5-02a961934160"
      },
      "outputs": [
        {
          "output_type": "stream",
          "name": "stdout",
          "text": [
            "['recommended' 'not_recommended' 'recommended' ... 'not_recommended'\n",
            " 'recommended' 'recommended']\n",
            "{'not_recommended', 'recommended'}\n"
          ]
        }
      ],
      "source": [
        "print(Y)\n",
        "print(set(Y))"
      ]
    },
    {
      "cell_type": "code",
      "execution_count": null,
      "metadata": {
        "colab": {
          "base_uri": "https://localhost:8080/"
        },
        "id": "UAyurJdFwZ6p",
        "outputId": "e289bb24-0b49-45b9-ee62-3e308101155b"
      },
      "outputs": [
        {
          "output_type": "stream",
          "name": "stdout",
          "text": [
            "48082\n"
          ]
        }
      ],
      "source": [
        "print(len(df))"
      ]
    },
    {
      "cell_type": "code",
      "execution_count": null,
      "metadata": {
        "id": "gFUwZ37pshkj"
      },
      "outputs": [],
      "source": [
        "import re\n",
        "data_train = np.asarray(df)\n",
        "data_test = np.asarray(df_test)\n",
        "stopwords  = hazm.stopwords_list()\n",
        "normalizer = hazm.Normalizer(persian_numbers=False)\n",
        "stemmer = hazm.Stemmer()\n",
        "lemmatizer = hazm.Lemmatizer()\n",
        "puncList   = [\"_\", \".\", \";\", \":\", \"!\", \"?\", \"/\", \"\\\\\", \",\", \"#\", \"@\", \"$\", \"&\", \")\", \"(\", \"\\\"\", \"\\'\\'\"]\n",
        "stopwords.append(puncList)\n",
        "set_words = []"
      ]
    },
    {
      "cell_type": "code",
      "execution_count": null,
      "metadata": {
        "colab": {
          "base_uri": "https://localhost:8080/"
        },
        "id": "gr5lZS0Ot5pI",
        "outputId": "89b1dd16-393e-49f8-bd92-cead6dc3834f"
      },
      "outputs": [
        {
          "output_type": "stream",
          "name": "stdout",
          "text": [
            "[['واقعا عالیه'\n",
            "  'سلام نظرم بگم میخواستم موضوع اشاره نظراتی کالاها ثبت میکنیم هستن مردم عزیز استناد نظرات کالا خریداری میکنن بهتره ک کارشناسی الکی ندیم سال پاور بانک دارم نفر اشنا خریدم پیشنهاد خریدم واقعا عالیه گذشت سال هنوزم ایفون شارژ میکنه زمان شارژ دوستان کابل پاور شارژ ساعت فول میشه کابل دیگه ای وصل ساعت میکشه همزمان پاور همسرم خریدم اونم درومد افت کمتر بازدهی شارژ داره تجربه اطرافیانم ک شیائومی کالایی ک میخرید اصل باشه فیک داره واقعا شیائومی حرف میزنه برند گرونه هفته دیجی خریدم اونم واقعا سبک عالیه بازدهی بالایی داره خروجی هوشمند داره مجموع امپر میده حداکثر خروجی میده ببخشید طولانی'\n",
            "  'recommended']\n",
            " ['سخت حوله میاد'\n",
            "  'گیره های فلزی سخت میشوند حوله سخت توان مهسان یه مدل دیگه داره پلاستیکی هست ساده راحت خم نظرم تولید طرح متوقف کنن گیره های آهنی سفت هستن خواستم خمشون پایه پلاستیکیش شکست بلا استفاده'\n",
            "  'not_recommended']\n",
            " ['اقرار ایراد گرفتن'\n",
            "  'سلام دوستان منم مثه دوستان خرید تحقیق لپ تاپ انجام دادم نتیجه رسیدم مدل های مشابه شرکت شرکت های دیگه واقعا بهتره تحقیق اون ویدیو دوستامون اشاره برخوردم براق صفحه نمایش لق لولاهای لپ تاپ موقع استفاده تاچ اسکرین ایراد منم ترسیدم بابت تصمیم گرفتم انتخابم نهایی بدستم لپ تاپ دیدم واقعا اون ها اقراری نبوده اصلا خبری لق زدن صفحه موقع تاچ مگر بخوای محکم بکوبی انگشتتو اونوقت لپ تاپی مسئله لق زدن هست بابت مشکلی محکمه بازتاب صفحه نمایش همینطور اقرار بخوای محیط بسته قرار باشی یه پروژکتور بروی صفحه بازهم مسئله واسه لپ تاپ ها هست اگه یه لپ تاپی صفحه مات باشه بخوای فضای آزاد نور شدید خورشید کار کنی محتوای صفحه ی اون نمیبینی گفتم اینارو لپ تاپ قبلیم صفحش مات تجربه شرایط عادی استفاده روزمره مشکلی باهاش برنمیخوری امیدوارم تونسته باشم رفع شبهه ها واسه دوستامون کمک باشم'\n",
            "  'recommended']\n",
            " ...\n",
            " ['ارزش خرید نداره' 'اندازه بالش هست بدرد بچه میخوره پولتون نریزید'\n",
            "  'not_recommended']\n",
            " ['تمیز زیبا' 'تمیز زیبا راض' 'recommended']\n",
            " ['خوبه غلیظه' 'واکس خوبیه' 'recommended']]\n"
          ]
        }
      ],
      "source": [
        "def remove(data):\n",
        "  for i in range(len(data)):\n",
        "    for j in range(len(data[i]) - 1):\n",
        "      data[i][j] = normalizer.normalize(data[i][j])\n",
        "      data[i][j] = re.sub('[0-9]+',' ',data[i][j])\n",
        "      data[i][j] = re.sub('[۰-۹]+', ' ', data[i][j])\n",
        "      data[i][j] = re.sub('\\n',' ',data[i][j])\n",
        "      data[i][j] = re.sub('\\r',' ',data[i][j])\n",
        "      data[i][j] = re.sub('[^\\w\\s]',' ',data[i][j])\n",
        "      data[i][j] = re.sub('[A-Za-z]',' ',data[i][j])\n",
        "      data[i][j] = re.sub('\\_',' ',data[i][j])\n",
        "      data[i][j] = re.sub('_x000D_\\n', ' ', data[i][j])\n",
        "      data[i][j] = stemmer.stem(data[i][j])\n",
        "      data[i][j] = lemmatizer.lemmatize(data[i][j])\n",
        "      data[i][j] = re.sub('#',' ',data[i][j])\n",
        "      set_words.append(data[i][j].split(' '))\n",
        "      data[i][j] =  ' '.join(data[i][j].split())\n",
        "      data[i][j] =  ' '.join(word for word in data[i][j].split() if word not in stopwords )\n",
        "    \n",
        "remove(data_train)\n",
        "remove(data_test)\n",
        "print(data_train)"
      ]
    },
    {
      "cell_type": "code",
      "execution_count": null,
      "metadata": {
        "colab": {
          "base_uri": "https://localhost:8080/"
        },
        "id": "YI-633TkBnnh",
        "outputId": "3a236992-7aae-4872-ee00-91daba3eba59"
      },
      "outputs": [
        {
          "output_type": "stream",
          "name": "stdout",
          "text": [
            "['recommended' 'not_recommended' 'recommended' ... 'not_recommended'\n",
            " 'recommended' 'recommended']\n",
            "{'not_recommended', 'recommended'}\n"
          ]
        }
      ],
      "source": [
        "print(Y)\n",
        "print(set(Y))"
      ]
    },
    {
      "cell_type": "code",
      "execution_count": null,
      "metadata": {
        "colab": {
          "base_uri": "https://localhost:8080/"
        },
        "id": "XcjpX_Sql5SE",
        "outputId": "ebb179cf-1489-4b01-b4b9-291a666d239b"
      },
      "outputs": [
        {
          "output_type": "stream",
          "name": "stdout",
          "text": [
            "[['سفر طولان'\n",
            "  'توجه قدرت خنک کنندگی ساعت زمان داره یکم خنک کنه گرم کن ساع' '']\n",
            " ['خوش بو' 'خوش بو ماندگاری ساعت قیمت اصلا ابدا ارزش نداره' '']\n",
            " ['فایده' 'اصلا تأثیری ندا' '']\n",
            " ...\n",
            " ['یه جنس ایرانی'\n",
            "  'چرب مو جلوگیری سفیدی زودرس پیری مو میشه یه کالای ایرانی مواد مغزی مطمئن استفاده همون کار بوی خوبش روغن مناسبش چرب کیفیت بهم'\n",
            "  '']\n",
            " ['خراب' 'بعداز ماه زرد میشه میره' '']\n",
            " ['سلا' 'قیمت ارزون خریدم کیفیت کارایی دریچه اتوماتیکش عالیییه' '']]\n"
          ]
        }
      ],
      "source": [
        "print(data_test)"
      ]
    },
    {
      "cell_type": "code",
      "execution_count": null,
      "metadata": {
        "id": "opCmISRdBJ7E"
      },
      "outputs": [],
      "source": [
        "dataset_train = df[\"title\"] + ' ' + df[\"comment\"]\n",
        "dataset_test = df_test[\"title\"] + ' ' + df_test[\"comment\"]"
      ]
    },
    {
      "cell_type": "code",
      "execution_count": null,
      "metadata": {
        "colab": {
          "base_uri": "https://localhost:8080/"
        },
        "id": "uVtKQppZBKUn",
        "outputId": "ea692c10-a69c-4ef1-d5d0-6507be9255cc"
      },
      "outputs": [
        {
          "output_type": "execute_result",
          "data": {
            "text/plain": [
              "0        واقعا عالیه سلام نظرم بگم میخواستم موضوع اشاره...\n",
              "1        سخت حوله میاد گیره های فلزی سخت میشوند حوله سخ...\n",
              "2        اقرار ایراد گرفتن سلام دوستان منم مثه دوستان خ...\n",
              "3         سالی هست اسپیکرو خریدم واقعا حرف نداره برندای...\n",
              "4        هارد کیفیت ظاهر شیک هارد خریدم استفاده سنگینی ...\n",
              "                               ...                        \n",
              "48077         کیف کاملابی کیفیت قیمتی اصلا ارزش خرید نداره\n",
              "48078                     خون دن داره عالییییییییییییییییی\n",
              "48079    ارزش خرید نداره اندازه بالش هست بدرد بچه میخور...\n",
              "48080                              تمیز زیبا تمیز زیبا راض\n",
              "48081                                خوبه غلیظه واکس خوبیه\n",
              "Length: 48082, dtype: object"
            ]
          },
          "metadata": {},
          "execution_count": 18
        }
      ],
      "source": [
        "dataset_train"
      ]
    },
    {
      "cell_type": "code",
      "execution_count": null,
      "metadata": {
        "id": "Ob5xvNtAvakC"
      },
      "outputs": [],
      "source": [
        "labelencoder = preprocessing.LabelEncoder()\n",
        "y_train = labelencoder.fit_transform(Y)"
      ]
    },
    {
      "cell_type": "code",
      "execution_count": null,
      "metadata": {
        "colab": {
          "base_uri": "https://localhost:8080/"
        },
        "id": "T_xSv0ySFO25",
        "outputId": "65ab2250-d43d-4c02-fe3a-b5e3536a0484"
      },
      "outputs": [
        {
          "output_type": "stream",
          "name": "stdout",
          "text": [
            "{0, 1}\n",
            "{'not_recommended', 'recommended'}\n"
          ]
        }
      ],
      "source": [
        "print(set(y_train))\n",
        "print(set(Y))"
      ]
    },
    {
      "cell_type": "code",
      "execution_count": null,
      "metadata": {
        "colab": {
          "base_uri": "https://localhost:8080/"
        },
        "id": "Mk_LfEj0FP8T",
        "outputId": "8875c867-6612-4426-9225-f6ab9a5322f8"
      },
      "outputs": [
        {
          "output_type": "execute_result",
          "data": {
            "text/plain": [
              "(48082,)"
            ]
          },
          "metadata": {},
          "execution_count": 21
        }
      ],
      "source": [
        "dataset_train.shape"
      ]
    },
    {
      "cell_type": "code",
      "execution_count": null,
      "metadata": {
        "colab": {
          "base_uri": "https://localhost:8080/",
          "height": 87
        },
        "id": "RSCVs5ZJDRi7",
        "outputId": "5341d5e3-4786-439f-f29e-c34f74a7af71"
      },
      "outputs": [
        {
          "output_type": "execute_result",
          "data": {
            "application/vnd.google.colaboratory.intrinsic+json": {
              "type": "string"
            },
            "text/plain": [
              "'واقعا عالیه سلام نظرم بگم میخواستم موضوع اشاره نظراتی کالاها ثبت میکنیم هستن مردم عزیز استناد نظرات کالا خریداری میکنن بهتره ک کارشناسی الکی ندیم سال پاور بانک دارم نفر اشنا خریدم پیشنهاد خریدم واقعا عالیه گذشت سال هنوزم ایفون شارژ میکنه زمان شارژ دوستان کابل پاور شارژ ساعت فول میشه کابل دیگه ای وصل ساعت میکشه همزمان پاور همسرم خریدم اونم درومد افت کمتر بازدهی شارژ داره تجربه اطرافیانم ک شیائومی کالایی ک میخرید اصل باشه فیک داره واقعا شیائومی حرف میزنه برند گرونه هفته دیجی خریدم اونم واقعا سبک عالیه بازدهی بالایی داره خروجی هوشمند داره مجموع امپر میده حداکثر خروجی میده ببخشید طولانی'"
            ]
          },
          "metadata": {},
          "execution_count": 22
        }
      ],
      "source": [
        "dataset_train[0]"
      ]
    },
    {
      "cell_type": "code",
      "execution_count": null,
      "metadata": {
        "id": "vGeV3HbPFM-Q"
      },
      "outputs": [],
      "source": [
        "vectorizer = TfidfVectorizer(\n",
        "    sublinear_tf=True,\n",
        "    ngram_range=(1, 2)\n",
        "    )\n",
        "X_train = vectorizer.fit_transform(dataset_train)\n",
        "\n",
        "x_test = vectorizer.transform(dataset_test)"
      ]
    },
    {
      "cell_type": "code",
      "execution_count": null,
      "metadata": {
        "colab": {
          "base_uri": "https://localhost:8080/"
        },
        "id": "kuhhPGkJ_cgW",
        "outputId": "60dc2473-54d3-4d52-883a-b5d76f5c377a"
      },
      "outputs": [
        {
          "output_type": "stream",
          "name": "stdout",
          "text": [
            "  (0, 62739)\t0.07893833717671006\n",
            "  (0, 332045)\t0.08896562350071428\n",
            "  (0, 138014)\t0.08319274788493813\n",
            "  (0, 130190)\t0.08656966364149474\n",
            "  (0, 332172)\t0.0923425392572709\n",
            "  (0, 32678)\t0.0923425392572709\n",
            "  (0, 297974)\t0.0923425392572709\n",
            "  (0, 160333)\t0.07893833717671006\n",
            "  (0, 396059)\t0.0923425392572709\n",
            "  (0, 138033)\t0.0923425392572709\n",
            "  (0, 159387)\t0.08079678802571859\n",
            "  (0, 60338)\t0.04947163653855329\n",
            "  (0, 54715)\t0.0923425392572709\n",
            "  (0, 255777)\t0.0923425392572709\n",
            "  (0, 216392)\t0.07981583212838153\n",
            "  (0, 399541)\t0.07675323665654075\n",
            "  (0, 42874)\t0.08656966364149474\n",
            "  (0, 183392)\t0.057200373459073396\n",
            "  (0, 391777)\t0.07675323665654075\n",
            "  (0, 467796)\t0.0923425392572709\n",
            "  (0, 76786)\t0.0923425392572709\n",
            "  (0, 334986)\t0.0923425392572709\n",
            "  (0, 130848)\t0.07741987226916199\n",
            "  (0, 239690)\t0.0923425392572709\n",
            "  (0, 399613)\t0.0923425392572709\n",
            "  :\t:\n",
            "  (48079, 421981)\t0.2059769095605146\n",
            "  (48079, 60472)\t0.2303779288988988\n",
            "  (48079, 139036)\t0.15697904777520372\n",
            "  (48079, 35899)\t0.13356149906640657\n",
            "  (48079, 11842)\t0.11819705553724075\n",
            "  (48079, 11778)\t0.10911319930389612\n",
            "  (48079, 330731)\t0.16013644333511273\n",
            "  (48079, 68001)\t0.15141436953306725\n",
            "  (48079, 93020)\t0.16398221991459633\n",
            "  (48079, 352871)\t0.09879205630405702\n",
            "  (48079, 138094)\t0.08918219408462558\n",
            "  (48079, 387131)\t0.09031202345257434\n",
            "  (48080, 110128)\t0.70061527887341\n",
            "  (48080, 207536)\t0.3986624270418728\n",
            "  (48080, 207378)\t0.372793686808993\n",
            "  (48080, 110010)\t0.33853346249728183\n",
            "  (48080, 190151)\t0.18595949340152051\n",
            "  (48080, 207228)\t0.2490893994794384\n",
            "  (48081, 264347)\t0.474940781534109\n",
            "  (48081, 147559)\t0.474940781534109\n",
            "  (48081, 264340)\t0.4105127928552601\n",
            "  (48081, 401164)\t0.45757245896583437\n",
            "  (48081, 401153)\t0.3499564555299302\n",
            "  (48081, 148517)\t0.18025976389663823\n",
            "  (48081, 146498)\t0.1265152027328331\n"
          ]
        }
      ],
      "source": [
        "print(X_train)"
      ]
    },
    {
      "cell_type": "code",
      "execution_count": null,
      "metadata": {
        "colab": {
          "base_uri": "https://localhost:8080/"
        },
        "id": "tJ--8DlioMxO",
        "outputId": "2ca62889-4333-431c-db1f-43e23726a166"
      },
      "outputs": [
        {
          "output_type": "stream",
          "name": "stdout",
          "text": [
            "  (0, 478138)\t0.13536617542318882\n",
            "  (0, 467148)\t0.2902186992328331\n",
            "  (0, 466890)\t0.16041011248578382\n",
            "  (0, 452925)\t0.12634378394307433\n",
            "  (0, 452771)\t0.18440326049302502\n",
            "  (0, 451194)\t0.14029917704216777\n",
            "  (0, 275741)\t0.2788978270350929\n",
            "  (0, 275641)\t0.15008651438191856\n",
            "  (0, 251872)\t0.27086554038284955\n",
            "  (0, 222289)\t0.1882897426818092\n",
            "  (0, 212143)\t0.24671420098191083\n",
            "  (0, 211757)\t0.121355300019492\n",
            "  (0, 211717)\t0.21703744402806197\n",
            "  (0, 204730)\t0.27086554038284955\n",
            "  (0, 204618)\t0.14981097885996209\n",
            "  (0, 161322)\t0.22390965317298336\n",
            "  (0, 158549)\t0.07363635255442957\n",
            "  (0, 145031)\t0.2675769548373528\n",
            "  (0, 145028)\t0.2426209284366732\n",
            "  (0, 144897)\t0.30391544534013465\n",
            "  (0, 112451)\t0.2839883736742054\n",
            "  (0, 112103)\t0.12405438460666335\n",
            "  (1, 352871)\t0.1049875166622974\n",
            "  (1, 292537)\t0.2726348908889483\n",
            "  (1, 292437)\t0.16333395347665552\n",
            "  :\t:\n",
            "  (4997, 47900)\t0.18121655692584906\n",
            "  (4997, 17981)\t0.18161917315716095\n",
            "  (4997, 16328)\t0.058665534434402505\n",
            "  (4998, 337672)\t0.4614514642495851\n",
            "  (4998, 336168)\t0.1430283073468745\n",
            "  (4998, 333762)\t0.2590523274915758\n",
            "  (4998, 292978)\t0.2014879599456135\n",
            "  (4998, 204310)\t0.4515451664838651\n",
            "  (4998, 204240)\t0.30724712436032003\n",
            "  (4998, 136836)\t0.21311954680903925\n",
            "  (4998, 83260)\t0.44345113185874024\n",
            "  (4998, 83236)\t0.34429240868197863\n",
            "  (4999, 461234)\t0.28266168474466025\n",
            "  (4999, 459421)\t0.09746965283993528\n",
            "  (4999, 434946)\t0.1832078889077357\n",
            "  (4999, 281830)\t0.36891199271854996\n",
            "  (4999, 281794)\t0.12150051720037916\n",
            "  (4999, 257400)\t0.34035646378365764\n",
            "  (4999, 222955)\t0.2928913892796966\n",
            "  (4999, 168609)\t0.3048495271050932\n",
            "  (4999, 141854)\t0.25858235556051584\n",
            "  (4999, 140311)\t0.1099065681139303\n",
            "  (4999, 12443)\t0.3582872886594794\n",
            "  (4999, 12414)\t0.23795893028336654\n",
            "  (4999, 8620)\t0.40948605540962496\n"
          ]
        }
      ],
      "source": [
        "print(x_test)"
      ]
    },
    {
      "cell_type": "code",
      "execution_count": null,
      "metadata": {
        "id": "VhRX0ChKHo_c"
      },
      "outputs": [],
      "source": [
        "X_train, X_valid, y_train, y_valid = train_test_split(X_train, y_train, test_size=0.2, random_state=42)"
      ]
    },
    {
      "cell_type": "code",
      "execution_count": null,
      "metadata": {
        "id": "8_Ypq3UiTJ3U"
      },
      "outputs": [],
      "source": [
        "from sklearn.svm import SVC, LinearSVC\n",
        "from sklearn.metrics import classification_report, confusion_matrix, accuracy_score\n",
        "from sklearn.linear_model import PassiveAggressiveClassifier"
      ]
    },
    {
      "cell_type": "code",
      "execution_count": null,
      "metadata": {
        "id": "fwtLc4Cey7Dn"
      },
      "outputs": [],
      "source": [
        "accuracy_list = []"
      ]
    },
    {
      "cell_type": "code",
      "execution_count": null,
      "metadata": {
        "colab": {
          "base_uri": "https://localhost:8080/"
        },
        "id": "r21yjes0kidP",
        "outputId": "1e33beb9-237f-44c7-caca-e6dc190a034c"
      },
      "outputs": [
        {
          "output_type": "stream",
          "name": "stdout",
          "text": [
            "1 LSVC Accuracy :0.9260684205053551\n",
            "2 LSVC Accuracy :0.9250285951960071\n",
            "3 LSVC Accuracy :0.9243007174794634\n",
            "4 LSVC Accuracy :0.9240927524175938\n",
            "5 LSVC Accuracy :0.9236768222938546\n",
            "6 LSVC Accuracy :0.9230529271082458\n",
            "7 LSVC Accuracy :0.922948944577311\n",
            "8 LSVC Accuracy :0.9227409795154414\n",
            "9 LSVC Accuracy :0.9227409795154414\n",
            "10 LSVC Accuracy :0.9225330144535718\n",
            "11 LSVC Accuracy :0.9222210668607674\n",
            "12 LSVC Accuracy :0.9219091192679629\n"
          ]
        }
      ],
      "source": [
        "for c in range(1, 13):\n",
        "  LSVC = LinearSVC(C=c)\n",
        "  LSVC.fit(X_train,y_train)\n",
        "  y2_LSVC_model = LSVC.predict(X_valid)\n",
        "  score = accuracy_score(y_valid, y2_LSVC_model)\n",
        "  accuracy_list.append(score)\n",
        "  print(f\"{c} LSVC Accuracy :{score}\")"
      ]
    },
    {
      "cell_type": "code",
      "execution_count": null,
      "metadata": {
        "colab": {
          "base_uri": "https://localhost:8080/"
        },
        "id": "LYfCEeJG1TkW",
        "outputId": "f2836c72-6126-47b7-8779-f07c8ed368aa"
      },
      "outputs": [
        {
          "output_type": "stream",
          "name": "stdout",
          "text": [
            "(12,)\n"
          ]
        }
      ],
      "source": [
        "accuracy_list = np.asarray(accuracy_list)\n",
        "print(accuracy_list.shape)"
      ]
    },
    {
      "cell_type": "code",
      "execution_count": null,
      "metadata": {
        "id": "VL17VSww0YDS"
      },
      "outputs": [],
      "source": [
        "%matplotlib inline\n",
        "import matplotlib.pyplot as plt"
      ]
    },
    {
      "cell_type": "code",
      "execution_count": null,
      "metadata": {
        "colab": {
          "base_uri": "https://localhost:8080/",
          "height": 265
        },
        "id": "ZTU9gVOvzD1F",
        "outputId": "4aa73f15-a5ac-4139-b5fe-1a3d38fcfa3e"
      },
      "outputs": [
        {
          "output_type": "display_data",
          "data": {
            "image/png": "[encoded data removed]",
            "text/plain": [
              "<Figure size 432x288 with 1 Axes>"
            ]
          },
          "metadata": {
            "needs_background": "light"
          }
        }
      ],
      "source": [
        "x = np.arange(0, 12)\n",
        "plt.plot(x, accuracy_list);"
      ]
    },
    {
      "cell_type": "code",
      "execution_count": null,
      "metadata": {
        "id": "OQbfnPfz865p"
      },
      "outputs": [],
      "source": [
        "DF = pd.DataFrame({\"C\" : [i for i in range(1, 13)], \"accuracy\" : accuracy_list})\n",
        "DF.to_csv(\"Accuracy_CommentAndTitleWithLSS.csv\", index=False)"
      ]
    },
    {
      "cell_type": "code",
      "execution_count": null,
      "metadata": {
        "colab": {
          "base_uri": "https://localhost:8080/"
        },
        "id": "G6Cu4Qb79gDN",
        "outputId": "2a764a7e-74a7-4487-ca47-70b0d870c631"
      },
      "outputs": [
        {
          "output_type": "stream",
          "name": "stdout",
          "text": [
            "0.9260684205053551\n"
          ]
        }
      ],
      "source": [
        "c = 1\n",
        "LSVC = LinearSVC(C=c)\n",
        "LSVC.fit(X_train,y_train)\n",
        "y2_LSVC_model = LSVC.predict(X_valid)\n",
        "score = accuracy_score(y_valid, y2_LSVC_model)\n",
        "print(score)"
      ]
    },
    {
      "cell_type": "code",
      "execution_count": null,
      "metadata": {
        "colab": {
          "base_uri": "https://localhost:8080/"
        },
        "id": "HWdlYETVTKc1",
        "outputId": "a1a1c166-fcad-4085-9ee5-57062e51cc0e"
      },
      "outputs": [
        {
          "output_type": "stream",
          "name": "stdout",
          "text": [
            "[1 0 0 1 1 1 1 0 1 1 1 1 1 0 1 0 1 1 1 1]\n"
          ]
        }
      ],
      "source": [
        "predictions = LSVC.predict(x_test)\n",
        "print(predictions[0:20])\n",
        "predictions__test = labelencoder.inverse_transform(predictions)\n",
        "list=[i+1 for i in range(len(predictions__test))]\n",
        "\n",
        "DF = pd.DataFrame({\"Id\" : list, \"recommend\" : predictions__test})\n",
        "\n",
        "DF.to_csv(f\"SubmissionTC{c}WithLSSpace.csv\", index=False)"
      ]
    },
    {
      "cell_type": "code",
      "execution_count": null,
      "metadata": {
        "colab": {
          "base_uri": "https://localhost:8080/"
        },
        "id": "3dzzyM0fGykZ",
        "outputId": "352c6d4d-0203-42f6-f859-99c896acf8c0"
      },
      "outputs": [
        {
          "output_type": "execute_result",
          "data": {
            "text/plain": [
              "(38465, 479119)"
            ]
          },
          "metadata": {},
          "execution_count": 36
        }
      ],
      "source": [
        "X_train.shape"
      ]
    },
    {
      "cell_type": "code",
      "execution_count": null,
      "metadata": {
        "colab": {
          "base_uri": "https://localhost:8080/"
        },
        "id": "aL6Qp8p0G0_V",
        "outputId": "1bb77ed5-694c-4859-d823-b731d2fc8e79"
      },
      "outputs": [
        {
          "output_type": "execute_result",
          "data": {
            "text/plain": [
              "(5000, 479119)"
            ]
          },
          "metadata": {},
          "execution_count": 37
        }
      ],
      "source": [
        "x_test.shape"
      ]
    },
    {
      "cell_type": "code",
      "execution_count": null,
      "metadata": {
        "colab": {
          "base_uri": "https://localhost:8080/"
        },
        "id": "vNRRoASiQmXv",
        "outputId": "61aa9df6-7998-4689-81da-b47575812272"
      },
      "outputs": [
        {
          "output_type": "stream",
          "name": "stdout",
          "text": [
            "Passive-Aggressive-Classifier\n",
            "** PassiveAggressiveClassifier(average=True, n_jobs=4, random_state=0) **\n",
            "accuracy:  92.659\n"
          ]
        }
      ],
      "source": [
        "def benchmark(clf):\n",
        "  print(\"**\", clf, \"**\")\n",
        "  clf.fit(X_train, y_train)\n",
        "  prediction = clf.predict(X_valid)\n",
        "  score = accuracy_score(y_valid, prediction)\n",
        "  print(\"accuracy:  {0:0.3f}\".format(score*100))\n",
        "\n",
        "results = []\n",
        "clf = PassiveAggressiveClassifier(loss='hinge', random_state=0, class_weight=None, average=True, n_jobs=4)\n",
        "name = \"Passive-Aggressive-Classifier\"\n",
        "print(name)\n",
        "results.append(benchmark(clf))"
      ]
    },
    {
      "cell_type": "code",
      "execution_count": null,
      "metadata": {
        "colab": {
          "base_uri": "https://localhost:8080/"
        },
        "id": "xdrqiniKRE53",
        "outputId": "4ab6f0ee-2fe6-4a86-8824-1f78acb87da1"
      },
      "outputs": [
        {
          "output_type": "stream",
          "name": "stdout",
          "text": [
            "[1 0 0 1 1 1 1 0 1 1 1 1 1 0 0 0 1 1 1 1]\n"
          ]
        }
      ],
      "source": [
        "predictions = clf.predict(x_test)\n",
        "print(predictions[0:20])\n",
        "predictions__test = labelencoder.inverse_transform(predictions)\n",
        "list=[i+1 for i in range(len(predictions__test))]\n",
        "\n",
        "DF = pd.DataFrame({\"Id\" : list, \"recommend\" : predictions__test})\n",
        "\n",
        "DF.to_csv(f\"clf SubmissionTC{c}WithLSSpace.csv\", index=False)"
      ]
    },
    {
      "cell_type": "code",
      "execution_count": null,
      "metadata": {
        "id": "dVhfKf9ownKH"
      },
      "outputs": [],
      "source": [
        "set_xtrain = set()\n",
        "for i in range(len(set_words)):\n",
        "  for j in range(len(set_words[i])):\n",
        "    set_xtrain.add(set_words[i][j])"
      ]
    },
    {
      "cell_type": "code",
      "execution_count": null,
      "metadata": {
        "colab": {
          "base_uri": "https://localhost:8080/"
        },
        "id": "aJV8V3xKymvt",
        "outputId": "c8edc75a-3f05-4d09-b087-236c30d56b14"
      },
      "outputs": [
        {
          "output_type": "stream",
          "name": "stdout",
          "text": [
            "40901\n"
          ]
        }
      ],
      "source": [
        "print(len(set_xtrain))"
      ]
    },
    {
      "cell_type": "code",
      "execution_count": null,
      "metadata": {
        "colab": {
          "base_uri": "https://localhost:8080/"
        },
        "id": "exO9_vcLx4i0",
        "outputId": "1696f667-3c79-4d10-85b9-1b939d6ce41a"
      },
      "outputs": [
        {
          "output_type": "stream",
          "name": "stdout",
          "text": [
            "106164\n"
          ]
        }
      ],
      "source": [
        "print(len(set_words))"
      ]
    },
    {
      "cell_type": "code",
      "execution_count": null,
      "metadata": {
        "id": "rruwpDvaSBXj"
      },
      "outputs": [],
      "source": [
        "raw_data = pd.read_csv('/content/drive/MyDrive/train.csv')"
      ]
    },
    {
      "cell_type": "code",
      "source": [
        "from sklearn.preprocessing import OneHotEncoder"
      ],
      "metadata": {
        "id": "lzCgZ28OS7RQ"
      },
      "execution_count": null,
      "outputs": []
    },
    {
      "cell_type": "code",
      "source": [
        "raw_data"
      ],
      "metadata": {
        "colab": {
          "base_uri": "https://localhost:8080/",
          "height": 745
        },
        "id": "PJx-dgfaTQei",
        "outputId": "283f17e5-540b-47d2-bff3-8b5c5be92603"
      },
      "execution_count": null,
      "outputs": [
        {
          "output_type": "execute_result",
          "data": {
            "text/html": [
              "\n",
              "  <div id=\"df-598d9e70-fd90-4205-a4bb-6a22e0389c2d\">\n",
              "    <div class=\"colab-df-container\">\n",
              "      <div>\n",
              "<style scoped>\n",
              "    .dataframe tbody tr th:only-of-type {\n",
              "        vertical-align: middle;\n",
              "    }\n",
              "\n",
              "    .dataframe tbody tr th {\n",
              "        vertical-align: top;\n",
              "    }\n",
              "\n",
              "    .dataframe thead th {\n",
              "        text-align: right;\n",
              "    }\n",
              "</style>\n",
              "<table border=\"1\" class=\"dataframe\">\n",
              "  <thead>\n",
              "    <tr style=\"text-align: right;\">\n",
              "      <th></th>\n",
              "      <th>product_id</th>\n",
              "      <th>product_title</th>\n",
              "      <th>user_id</th>\n",
              "      <th>likes</th>\n",
              "      <th>dislikes</th>\n",
              "      <th>title</th>\n",
              "      <th>comment</th>\n",
              "      <th>advantages</th>\n",
              "      <th>disadvantages</th>\n",
              "      <th>recommend</th>\n",
              "    </tr>\n",
              "  </thead>\n",
              "  <tbody>\n",
              "    <tr>\n",
              "      <th>0</th>\n",
              "      <td>90213</td>\n",
              "      <td>شارژر همراه شیاومی مدل NDY-02-AN با ظرفیت 1000...</td>\n",
              "      <td>3862150</td>\n",
              "      <td>4</td>\n",
              "      <td>1</td>\n",
              "      <td>واقعاً عالیه</td>\n",
              "      <td>سلام، قبل اینکه نظرم رو بگم میخواستم به یک موض...</td>\n",
              "      <td>[\"عمر طولانی\\r\",\"افت بسیار کم میزان شارژ\\r\",\"ا...</td>\n",
              "      <td>[\"ندارد\"]</td>\n",
              "      <td>recommended</td>\n",
              "    </tr>\n",
              "    <tr>\n",
              "      <th>1</th>\n",
              "      <td>59473</td>\n",
              "      <td>یدک پولیشر میکروفایبر مهسان مدل 20119</td>\n",
              "      <td>626843</td>\n",
              "      <td>1</td>\n",
              "      <td>0</td>\n",
              "      <td>خیلی سخت حوله اش در میاد</td>\n",
              "      <td>گیره های فلزی خیلی سخت تا میشوند و لذا حوله را...</td>\n",
              "      <td>NaN</td>\n",
              "      <td>NaN</td>\n",
              "      <td>not_recommended</td>\n",
              "    </tr>\n",
              "    <tr>\n",
              "      <th>2</th>\n",
              "      <td>133722</td>\n",
              "      <td>لپ تاپ 15 اینچی ایسوس مدل N501VW - A</td>\n",
              "      <td>497032</td>\n",
              "      <td>6</td>\n",
              "      <td>1</td>\n",
              "      <td>اقرار بیش از حد در ایراد گرفتن</td>\n",
              "      <td>سلام دوستان،،_x000D_\\nمنم مثه بعضی از دوستان ق...</td>\n",
              "      <td>[\"همه چیز که تو مشخصات اومده بجز 3 مورد کوچیک\"]</td>\n",
              "      <td>[\"تاچ پدش میتونست بهتر باشه از نظر سرعت پاسخ گ...</td>\n",
              "      <td>recommended</td>\n",
              "    </tr>\n",
              "    <tr>\n",
              "      <th>3</th>\n",
              "      <td>148509</td>\n",
              "      <td>اسپیکر بلوتوثی دیووم مدل Bluetune bean</td>\n",
              "      <td>574130</td>\n",
              "      <td>3</td>\n",
              "      <td>0</td>\n",
              "      <td>بسیار خوب</td>\n",
              "      <td>من چند سالی هست که این اسپیکرو خریدم و واقعا ح...</td>\n",
              "      <td>[\"کیفیت ساخت بسیار خوب\\r\",\"کیفیت صدا بسیار عال...</td>\n",
              "      <td>[\"ندارد\"]</td>\n",
              "      <td>recommended</td>\n",
              "    </tr>\n",
              "    <tr>\n",
              "      <th>4</th>\n",
              "      <td>5107</td>\n",
              "      <td>هارددیسک اکسترنال سیگیت مدل Backup Plus Deskto...</td>\n",
              "      <td>794316</td>\n",
              "      <td>1</td>\n",
              "      <td>0</td>\n",
              "      <td>هارد با کیفیت و ظاهر شیک</td>\n",
              "      <td>نزدیک به دو ساله که این هارد رو خریدم. استفاده...</td>\n",
              "      <td>[\"کیفیت ساخت خوب\\r\",\"ظاهر ساده و زیبا\\r\",\"صدای...</td>\n",
              "      <td>[\"عدم مقاومت در برابر ضربه\\r\",\"عدم سهولت جا به...</td>\n",
              "      <td>recommended</td>\n",
              "    </tr>\n",
              "    <tr>\n",
              "      <th>...</th>\n",
              "      <td>...</td>\n",
              "      <td>...</td>\n",
              "      <td>...</td>\n",
              "      <td>...</td>\n",
              "      <td>...</td>\n",
              "      <td>...</td>\n",
              "      <td>...</td>\n",
              "      <td>...</td>\n",
              "      <td>...</td>\n",
              "      <td>...</td>\n",
              "    </tr>\n",
              "    <tr>\n",
              "      <th>48077</th>\n",
              "      <td>842976</td>\n",
              "      <td>لیوان گامین گلس مدل محک بسته 6 عددی</td>\n",
              "      <td>2333505</td>\n",
              "      <td>10</td>\n",
              "      <td>1</td>\n",
              "      <td>بی کیفیت</td>\n",
              "      <td>کاملابی کیفیت، تو هر قیمتی اصلا ارزش خرید نداره</td>\n",
              "      <td>NaN</td>\n",
              "      <td>NaN</td>\n",
              "      <td>not_recommended</td>\n",
              "    </tr>\n",
              "    <tr>\n",
              "      <th>48078</th>\n",
              "      <td>362029</td>\n",
              "      <td>کتاب سفید و قرمز نسخه بارسلونا</td>\n",
              "      <td>8369747</td>\n",
              "      <td>0</td>\n",
              "      <td>0</td>\n",
              "      <td>عالی بود  خون دن داره</td>\n",
              "      <td>عالیییییییییییییییییییی</td>\n",
              "      <td>NaN</td>\n",
              "      <td>NaN</td>\n",
              "      <td>recommended</td>\n",
              "    </tr>\n",
              "    <tr>\n",
              "      <th>48079</th>\n",
              "      <td>818381</td>\n",
              "      <td>بالش بادی پورگونر مدل KMG</td>\n",
              "      <td>8027276</td>\n",
              "      <td>0</td>\n",
              "      <td>0</td>\n",
              "      <td>ارزش خرید نداره</td>\n",
              "      <td>اندازه بالش بسیار کوچک هست بیشتر بدرد بچه ۲ سا...</td>\n",
              "      <td>NaN</td>\n",
              "      <td>NaN</td>\n",
              "      <td>not_recommended</td>\n",
              "    </tr>\n",
              "    <tr>\n",
              "      <th>48080</th>\n",
              "      <td>549845</td>\n",
              "      <td>شید آباژور آرام مدل SH45/01</td>\n",
              "      <td>4979401</td>\n",
              "      <td>0</td>\n",
              "      <td>0</td>\n",
              "      <td>بسیار تمیز و زیبا</td>\n",
              "      <td>بسیار تمیز و زیبا...من که خیلی راضیم</td>\n",
              "      <td>[\"کاملا مطابق با عکس\\r\",\"ساخت بسیار تمیز\"]</td>\n",
              "      <td>[\"ندارد\"]</td>\n",
              "      <td>recommended</td>\n",
              "    </tr>\n",
              "    <tr>\n",
              "      <th>48081</th>\n",
              "      <td>820985</td>\n",
              "      <td>واکس کفش ساتل مدل 20 حجم 60 میلی لیتر</td>\n",
              "      <td>568208</td>\n",
              "      <td>0</td>\n",
              "      <td>0</td>\n",
              "      <td>خوبه و غلیظه</td>\n",
              "      <td>واکس خوبیه..</td>\n",
              "      <td>[\"روغنیه\"]</td>\n",
              "      <td>[\"ندیدم\"]</td>\n",
              "      <td>recommended</td>\n",
              "    </tr>\n",
              "  </tbody>\n",
              "</table>\n",
              "<p>48082 rows × 10 columns</p>\n",
              "</div>\n",
              "      <button class=\"colab-df-convert\" onclick=\"convertToInteractive('df-598d9e70-fd90-4205-a4bb-6a22e0389c2d')\"\n",
              "              title=\"Convert this dataframe to an interactive table.\"\n",
              "              style=\"display:none;\">\n",
              "        \n",
              "  <svg xmlns=\"http://www.w3.org/2000/svg\" height=\"24px\"viewBox=\"0 0 24 24\"\n",
              "       width=\"24px\">\n",
              "    <path d=\"M0 0h24v24H0V0z\" fill=\"none\"/>\n",
              "    <path d=\"M18.56 5.44l.94 2.06.94-2.06 2.06-.94-2.06-.94-.94-2.06-.94 2.06-2.06.94zm-11 1L8.5 8.5l.94-2.06 2.06-.94-2.06-.94L8.5 2.5l-.94 2.06-2.06.94zm10 10l.94 2.06.94-2.06 2.06-.94-2.06-.94-.94-2.06-.94 2.06-2.06.94z\"/><path d=\"M17.41 7.96l-1.37-1.37c-.4-.4-.92-.59-1.43-.59-.52 0-1.04.2-1.43.59L10.3 9.45l-7.72 7.72c-.78.78-.78 2.05 0 2.83L4 21.41c.39.39.9.59 1.41.59.51 0 1.02-.2 1.41-.59l7.78-7.78 2.81-2.81c.8-.78.8-2.07 0-2.86zM5.41 20L4 18.59l7.72-7.72 1.47 1.35L5.41 20z\"/>\n",
              "  </svg>\n",
              "      </button>\n",
              "      \n",
              "  <style>\n",
              "    .colab-df-container {\n",
              "      display:flex;\n",
              "      flex-wrap:wrap;\n",
              "      gap: 12px;\n",
              "    }\n",
              "\n",
              "    .colab-df-convert {\n",
              "      background-color: #E8F0FE;\n",
              "      border: none;\n",
              "      border-radius: 50%;\n",
              "      cursor: pointer;\n",
              "      display: none;\n",
              "      fill: #1967D2;\n",
              "      height: 32px;\n",
              "      padding: 0 0 0 0;\n",
              "      width: 32px;\n",
              "    }\n",
              "\n",
              "    .colab-df-convert:hover {\n",
              "      background-color: #E2EBFA;\n",
              "      box-shadow: 0px 1px 2px rgba(60, 64, 67, 0.3), 0px 1px 3px 1px rgba(60, 64, 67, 0.15);\n",
              "      fill: #174EA6;\n",
              "    }\n",
              "\n",
              "    [theme=dark] .colab-df-convert {\n",
              "      background-color: #3B4455;\n",
              "      fill: #D2E3FC;\n",
              "    }\n",
              "\n",
              "    [theme=dark] .colab-df-convert:hover {\n",
              "      background-color: #434B5C;\n",
              "      box-shadow: 0px 1px 3px 1px rgba(0, 0, 0, 0.15);\n",
              "      filter: drop-shadow(0px 1px 2px rgba(0, 0, 0, 0.3));\n",
              "      fill: #FFFFFF;\n",
              "    }\n",
              "  </style>\n",
              "\n",
              "      <script>\n",
              "        const buttonEl =\n",
              "          document.querySelector('#df-598d9e70-fd90-4205-a4bb-6a22e0389c2d button.colab-df-convert');\n",
              "        buttonEl.style.display =\n",
              "          google.colab.kernel.accessAllowed ? 'block' : 'none';\n",
              "\n",
              "        async function convertToInteractive(key) {\n",
              "          const element = document.querySelector('#df-598d9e70-fd90-4205-a4bb-6a22e0389c2d');\n",
              "          const dataTable =\n",
              "            await google.colab.kernel.invokeFunction('convertToInteractive',\n",
              "                                                     [key], {});\n",
              "          if (!dataTable) return;\n",
              "\n",
              "          const docLinkHtml = 'Like what you see? Visit the ' +\n",
              "            '<a target=\"_blank\" href=https://colab.research.google.com/notebooks/data_table.ipynb>data table notebook</a>'\n",
              "            + ' to learn more about interactive tables.';\n",
              "          element.innerHTML = '';\n",
              "          dataTable['output_type'] = 'display_data';\n",
              "          await google.colab.output.renderOutput(dataTable, element);\n",
              "          const docLink = document.createElement('div');\n",
              "          docLink.innerHTML = docLinkHtml;\n",
              "          element.appendChild(docLink);\n",
              "        }\n",
              "      </script>\n",
              "    </div>\n",
              "  </div>\n",
              "  "
            ],
            "text/plain": [
              "       product_id  ...        recommend\n",
              "0           90213  ...      recommended\n",
              "1           59473  ...  not_recommended\n",
              "2          133722  ...      recommended\n",
              "3          148509  ...      recommended\n",
              "4            5107  ...      recommended\n",
              "...           ...  ...              ...\n",
              "48077      842976  ...  not_recommended\n",
              "48078      362029  ...      recommended\n",
              "48079      818381  ...  not_recommended\n",
              "48080      549845  ...      recommended\n",
              "48081      820985  ...      recommended\n",
              "\n",
              "[48082 rows x 10 columns]"
            ]
          },
          "metadata": {},
          "execution_count": 45
        }
      ]
    },
    {
      "cell_type": "code",
      "source": [
        "# y_train = OneHotEncoder.fit_transform(Y)\n",
        "# raw_data[\"recommend\"] = OneHotEncoder().fit(raw_data[\"recommend\"].asarray().reshape(-1,1))"
      ],
      "metadata": {
        "id": "yWTvF3mqQPd_"
      },
      "execution_count": null,
      "outputs": []
    },
    {
      "cell_type": "code",
      "source": [
        "raw_data"
      ],
      "metadata": {
        "id": "NiCE_t_1QuPP",
        "colab": {
          "base_uri": "https://localhost:8080/",
          "height": 745
        },
        "outputId": "7b0100e2-58d5-4b2d-f32b-40a576f756bf"
      },
      "execution_count": null,
      "outputs": [
        {
          "output_type": "execute_result",
          "data": {
            "text/html": [
              "\n",
              "  <div id=\"df-17f9220b-235f-4d5b-842a-ce9f3710cd2a\">\n",
              "    <div class=\"colab-df-container\">\n",
              "      <div>\n",
              "<style scoped>\n",
              "    .dataframe tbody tr th:only-of-type {\n",
              "        vertical-align: middle;\n",
              "    }\n",
              "\n",
              "    .dataframe tbody tr th {\n",
              "        vertical-align: top;\n",
              "    }\n",
              "\n",
              "    .dataframe thead th {\n",
              "        text-align: right;\n",
              "    }\n",
              "</style>\n",
              "<table border=\"1\" class=\"dataframe\">\n",
              "  <thead>\n",
              "    <tr style=\"text-align: right;\">\n",
              "      <th></th>\n",
              "      <th>product_id</th>\n",
              "      <th>product_title</th>\n",
              "      <th>user_id</th>\n",
              "      <th>likes</th>\n",
              "      <th>dislikes</th>\n",
              "      <th>title</th>\n",
              "      <th>comment</th>\n",
              "      <th>advantages</th>\n",
              "      <th>disadvantages</th>\n",
              "      <th>recommend</th>\n",
              "    </tr>\n",
              "  </thead>\n",
              "  <tbody>\n",
              "    <tr>\n",
              "      <th>0</th>\n",
              "      <td>90213</td>\n",
              "      <td>شارژر همراه شیاومی مدل NDY-02-AN با ظرفیت 1000...</td>\n",
              "      <td>3862150</td>\n",
              "      <td>4</td>\n",
              "      <td>1</td>\n",
              "      <td>واقعاً عالیه</td>\n",
              "      <td>سلام، قبل اینکه نظرم رو بگم میخواستم به یک موض...</td>\n",
              "      <td>[\"عمر طولانی\\r\",\"افت بسیار کم میزان شارژ\\r\",\"ا...</td>\n",
              "      <td>[\"ندارد\"]</td>\n",
              "      <td>recommended</td>\n",
              "    </tr>\n",
              "    <tr>\n",
              "      <th>1</th>\n",
              "      <td>59473</td>\n",
              "      <td>یدک پولیشر میکروفایبر مهسان مدل 20119</td>\n",
              "      <td>626843</td>\n",
              "      <td>1</td>\n",
              "      <td>0</td>\n",
              "      <td>خیلی سخت حوله اش در میاد</td>\n",
              "      <td>گیره های فلزی خیلی سخت تا میشوند و لذا حوله را...</td>\n",
              "      <td>NaN</td>\n",
              "      <td>NaN</td>\n",
              "      <td>not_recommended</td>\n",
              "    </tr>\n",
              "    <tr>\n",
              "      <th>2</th>\n",
              "      <td>133722</td>\n",
              "      <td>لپ تاپ 15 اینچی ایسوس مدل N501VW - A</td>\n",
              "      <td>497032</td>\n",
              "      <td>6</td>\n",
              "      <td>1</td>\n",
              "      <td>اقرار بیش از حد در ایراد گرفتن</td>\n",
              "      <td>سلام دوستان،،_x000D_\\nمنم مثه بعضی از دوستان ق...</td>\n",
              "      <td>[\"همه چیز که تو مشخصات اومده بجز 3 مورد کوچیک\"]</td>\n",
              "      <td>[\"تاچ پدش میتونست بهتر باشه از نظر سرعت پاسخ گ...</td>\n",
              "      <td>recommended</td>\n",
              "    </tr>\n",
              "    <tr>\n",
              "      <th>3</th>\n",
              "      <td>148509</td>\n",
              "      <td>اسپیکر بلوتوثی دیووم مدل Bluetune bean</td>\n",
              "      <td>574130</td>\n",
              "      <td>3</td>\n",
              "      <td>0</td>\n",
              "      <td>بسیار خوب</td>\n",
              "      <td>من چند سالی هست که این اسپیکرو خریدم و واقعا ح...</td>\n",
              "      <td>[\"کیفیت ساخت بسیار خوب\\r\",\"کیفیت صدا بسیار عال...</td>\n",
              "      <td>[\"ندارد\"]</td>\n",
              "      <td>recommended</td>\n",
              "    </tr>\n",
              "    <tr>\n",
              "      <th>4</th>\n",
              "      <td>5107</td>\n",
              "      <td>هارددیسک اکسترنال سیگیت مدل Backup Plus Deskto...</td>\n",
              "      <td>794316</td>\n",
              "      <td>1</td>\n",
              "      <td>0</td>\n",
              "      <td>هارد با کیفیت و ظاهر شیک</td>\n",
              "      <td>نزدیک به دو ساله که این هارد رو خریدم. استفاده...</td>\n",
              "      <td>[\"کیفیت ساخت خوب\\r\",\"ظاهر ساده و زیبا\\r\",\"صدای...</td>\n",
              "      <td>[\"عدم مقاومت در برابر ضربه\\r\",\"عدم سهولت جا به...</td>\n",
              "      <td>recommended</td>\n",
              "    </tr>\n",
              "    <tr>\n",
              "      <th>...</th>\n",
              "      <td>...</td>\n",
              "      <td>...</td>\n",
              "      <td>...</td>\n",
              "      <td>...</td>\n",
              "      <td>...</td>\n",
              "      <td>...</td>\n",
              "      <td>...</td>\n",
              "      <td>...</td>\n",
              "      <td>...</td>\n",
              "      <td>...</td>\n",
              "    </tr>\n",
              "    <tr>\n",
              "      <th>48077</th>\n",
              "      <td>842976</td>\n",
              "      <td>لیوان گامین گلس مدل محک بسته 6 عددی</td>\n",
              "      <td>2333505</td>\n",
              "      <td>10</td>\n",
              "      <td>1</td>\n",
              "      <td>بی کیفیت</td>\n",
              "      <td>کاملابی کیفیت، تو هر قیمتی اصلا ارزش خرید نداره</td>\n",
              "      <td>NaN</td>\n",
              "      <td>NaN</td>\n",
              "      <td>not_recommended</td>\n",
              "    </tr>\n",
              "    <tr>\n",
              "      <th>48078</th>\n",
              "      <td>362029</td>\n",
              "      <td>کتاب سفید و قرمز نسخه بارسلونا</td>\n",
              "      <td>8369747</td>\n",
              "      <td>0</td>\n",
              "      <td>0</td>\n",
              "      <td>عالی بود  خون دن داره</td>\n",
              "      <td>عالیییییییییییییییییییی</td>\n",
              "      <td>NaN</td>\n",
              "      <td>NaN</td>\n",
              "      <td>recommended</td>\n",
              "    </tr>\n",
              "    <tr>\n",
              "      <th>48079</th>\n",
              "      <td>818381</td>\n",
              "      <td>بالش بادی پورگونر مدل KMG</td>\n",
              "      <td>8027276</td>\n",
              "      <td>0</td>\n",
              "      <td>0</td>\n",
              "      <td>ارزش خرید نداره</td>\n",
              "      <td>اندازه بالش بسیار کوچک هست بیشتر بدرد بچه ۲ سا...</td>\n",
              "      <td>NaN</td>\n",
              "      <td>NaN</td>\n",
              "      <td>not_recommended</td>\n",
              "    </tr>\n",
              "    <tr>\n",
              "      <th>48080</th>\n",
              "      <td>549845</td>\n",
              "      <td>شید آباژور آرام مدل SH45/01</td>\n",
              "      <td>4979401</td>\n",
              "      <td>0</td>\n",
              "      <td>0</td>\n",
              "      <td>بسیار تمیز و زیبا</td>\n",
              "      <td>بسیار تمیز و زیبا...من که خیلی راضیم</td>\n",
              "      <td>[\"کاملا مطابق با عکس\\r\",\"ساخت بسیار تمیز\"]</td>\n",
              "      <td>[\"ندارد\"]</td>\n",
              "      <td>recommended</td>\n",
              "    </tr>\n",
              "    <tr>\n",
              "      <th>48081</th>\n",
              "      <td>820985</td>\n",
              "      <td>واکس کفش ساتل مدل 20 حجم 60 میلی لیتر</td>\n",
              "      <td>568208</td>\n",
              "      <td>0</td>\n",
              "      <td>0</td>\n",
              "      <td>خوبه و غلیظه</td>\n",
              "      <td>واکس خوبیه..</td>\n",
              "      <td>[\"روغنیه\"]</td>\n",
              "      <td>[\"ندیدم\"]</td>\n",
              "      <td>recommended</td>\n",
              "    </tr>\n",
              "  </tbody>\n",
              "</table>\n",
              "<p>48082 rows × 10 columns</p>\n",
              "</div>\n",
              "      <button class=\"colab-df-convert\" onclick=\"convertToInteractive('df-17f9220b-235f-4d5b-842a-ce9f3710cd2a')\"\n",
              "              title=\"Convert this dataframe to an interactive table.\"\n",
              "              style=\"display:none;\">\n",
              "        \n",
              "  <svg xmlns=\"http://www.w3.org/2000/svg\" height=\"24px\"viewBox=\"0 0 24 24\"\n",
              "       width=\"24px\">\n",
              "    <path d=\"M0 0h24v24H0V0z\" fill=\"none\"/>\n",
              "    <path d=\"M18.56 5.44l.94 2.06.94-2.06 2.06-.94-2.06-.94-.94-2.06-.94 2.06-2.06.94zm-11 1L8.5 8.5l.94-2.06 2.06-.94-2.06-.94L8.5 2.5l-.94 2.06-2.06.94zm10 10l.94 2.06.94-2.06 2.06-.94-2.06-.94-.94-2.06-.94 2.06-2.06.94z\"/><path d=\"M17.41 7.96l-1.37-1.37c-.4-.4-.92-.59-1.43-.59-.52 0-1.04.2-1.43.59L10.3 9.45l-7.72 7.72c-.78.78-.78 2.05 0 2.83L4 21.41c.39.39.9.59 1.41.59.51 0 1.02-.2 1.41-.59l7.78-7.78 2.81-2.81c.8-.78.8-2.07 0-2.86zM5.41 20L4 18.59l7.72-7.72 1.47 1.35L5.41 20z\"/>\n",
              "  </svg>\n",
              "      </button>\n",
              "      \n",
              "  <style>\n",
              "    .colab-df-container {\n",
              "      display:flex;\n",
              "      flex-wrap:wrap;\n",
              "      gap: 12px;\n",
              "    }\n",
              "\n",
              "    .colab-df-convert {\n",
              "      background-color: #E8F0FE;\n",
              "      border: none;\n",
              "      border-radius: 50%;\n",
              "      cursor: pointer;\n",
              "      display: none;\n",
              "      fill: #1967D2;\n",
              "      height: 32px;\n",
              "      padding: 0 0 0 0;\n",
              "      width: 32px;\n",
              "    }\n",
              "\n",
              "    .colab-df-convert:hover {\n",
              "      background-color: #E2EBFA;\n",
              "      box-shadow: 0px 1px 2px rgba(60, 64, 67, 0.3), 0px 1px 3px 1px rgba(60, 64, 67, 0.15);\n",
              "      fill: #174EA6;\n",
              "    }\n",
              "\n",
              "    [theme=dark] .colab-df-convert {\n",
              "      background-color: #3B4455;\n",
              "      fill: #D2E3FC;\n",
              "    }\n",
              "\n",
              "    [theme=dark] .colab-df-convert:hover {\n",
              "      background-color: #434B5C;\n",
              "      box-shadow: 0px 1px 3px 1px rgba(0, 0, 0, 0.15);\n",
              "      filter: drop-shadow(0px 1px 2px rgba(0, 0, 0, 0.3));\n",
              "      fill: #FFFFFF;\n",
              "    }\n",
              "  </style>\n",
              "\n",
              "      <script>\n",
              "        const buttonEl =\n",
              "          document.querySelector('#df-17f9220b-235f-4d5b-842a-ce9f3710cd2a button.colab-df-convert');\n",
              "        buttonEl.style.display =\n",
              "          google.colab.kernel.accessAllowed ? 'block' : 'none';\n",
              "\n",
              "        async function convertToInteractive(key) {\n",
              "          const element = document.querySelector('#df-17f9220b-235f-4d5b-842a-ce9f3710cd2a');\n",
              "          const dataTable =\n",
              "            await google.colab.kernel.invokeFunction('convertToInteractive',\n",
              "                                                     [key], {});\n",
              "          if (!dataTable) return;\n",
              "\n",
              "          const docLinkHtml = 'Like what you see? Visit the ' +\n",
              "            '<a target=\"_blank\" href=https://colab.research.google.com/notebooks/data_table.ipynb>data table notebook</a>'\n",
              "            + ' to learn more about interactive tables.';\n",
              "          element.innerHTML = '';\n",
              "          dataTable['output_type'] = 'display_data';\n",
              "          await google.colab.output.renderOutput(dataTable, element);\n",
              "          const docLink = document.createElement('div');\n",
              "          docLink.innerHTML = docLinkHtml;\n",
              "          element.appendChild(docLink);\n",
              "        }\n",
              "      </script>\n",
              "    </div>\n",
              "  </div>\n",
              "  "
            ],
            "text/plain": [
              "       product_id  ...        recommend\n",
              "0           90213  ...      recommended\n",
              "1           59473  ...  not_recommended\n",
              "2          133722  ...      recommended\n",
              "3          148509  ...      recommended\n",
              "4            5107  ...      recommended\n",
              "...           ...  ...              ...\n",
              "48077      842976  ...  not_recommended\n",
              "48078      362029  ...      recommended\n",
              "48079      818381  ...  not_recommended\n",
              "48080      549845  ...      recommended\n",
              "48081      820985  ...      recommended\n",
              "\n",
              "[48082 rows x 10 columns]"
            ]
          },
          "metadata": {},
          "execution_count": 47
        }
      ]
    },
    {
      "cell_type": "code",
      "execution_count": null,
      "metadata": {
        "id": "fXRInZtHSFyV"
      },
      "outputs": [],
      "source": [
        "def clean_data(raw_data):\n",
        "    structured_data = []\n",
        "    for _, row in raw_data.iterrows():\n",
        "        main_text = str(row['title']) + ' ' + str(row['comment'])\n",
        "        recommend = row['recommend']\n",
        "\n",
        "        tokens = tokenizer(main_text)\n",
        "        structured_data.append({\n",
        "            'recommend': 1 if recommend == 'recommended' else 0,\n",
        "            'tokens': tokens\n",
        "        })\n",
        "    return structured_data"
      ]
    },
    {
      "cell_type": "code",
      "execution_count": null,
      "metadata": {
        "id": "NbXl7rQNSwZX"
      },
      "outputs": [],
      "source": [
        "def clean_up_pipeline(sentence):\n",
        "    normalizer.normalize(sentence)\n",
        "    return sentence"
      ]
    },
    {
      "cell_type": "code",
      "execution_count": null,
      "metadata": {
        "id": "GsDqt0mTSIC3"
      },
      "outputs": [],
      "source": [
        "def tokenizer(text):\n",
        "    text = clean_up_pipeline(text)\n",
        "    text = re.sub('\\s+', ' ', text).strip()\n",
        "    text = re.sub('[0-9]+',' ',text)\n",
        "    text = re.sub('[۰-۹]+', ' ', text)\n",
        "    text = re.sub('\\n',' ',text)\n",
        "    text = re.sub('\\r',' ',text)\n",
        "    text = re.sub('[^\\w\\s]',' ',text)\n",
        "    text = re.sub('[A-Za-z]',' ',text)\n",
        "    text = re.sub('\\_',' ',text)\n",
        "    text = re.sub('_x000D_\\n', ' ', text)\n",
        "    text = re.sub('#',' ',text)\n",
        "    \n",
        "    return hazm.word_tokenize(text)"
      ]
    },
    {
      "cell_type": "code",
      "execution_count": null,
      "metadata": {
        "id": "bXB1ahTqTSUd"
      },
      "outputs": [],
      "source": [
        "def set_words(comments):\n",
        "    temp = [token for token in (comment['tokens'] for comment in comments)];\n",
        "    res = set()\n",
        "    for t in temp:\n",
        "      for b in t:\n",
        "        res.add(b)\n",
        "    return res"
      ]
    },
    {
      "cell_type": "code",
      "execution_count": null,
      "metadata": {
        "id": "Az8-1fDtTT71"
      },
      "outputs": [],
      "source": [
        "def index_words(hashed_word):\n",
        "    result = {w: index for index, w in enumerate(hashed_word)}\n",
        "    result['reserved_for_new_words'] = len(hashed_word) + 1\n",
        "    return result"
      ]
    },
    {
      "cell_type": "code",
      "execution_count": null,
      "metadata": {
        "id": "dPGDU6aXTblI"
      },
      "outputs": [],
      "source": [
        "def compute_train_data(structured_data, indexed_words):\n",
        "    x, y = [], []\n",
        "    for data in structured_data:\n",
        "        x.append([indexed_words[token] for token in data['tokens']])\n",
        "        y.append(data['recommend'])\n",
        "    return np.asarray(x), np.asarray(y)"
      ]
    },
    {
      "cell_type": "code",
      "execution_count": null,
      "metadata": {
        "id": "EiRkNsQ7QBwa"
      },
      "outputs": [],
      "source": [
        "import numpy as np\n",
        "from tensorflow import sparse\n",
        "from tensorflow import keras\n",
        "from tensorflow.keras import layers\n",
        "from tensorflow.keras import Sequential\n",
        "from tensorflow.keras.layers import LSTM, Dropout, Embedding, Dense, Flatten, Bidirectional\n",
        "from keras.preprocessing import sequence"
      ]
    },
    {
      "cell_type": "code",
      "execution_count": null,
      "metadata": {
        "colab": {
          "base_uri": "https://localhost:8080/"
        },
        "id": "W6v2ejJbUI9j",
        "outputId": "26d0abfc-82f4-40c5-eb88-56f05c531b5d"
      },
      "outputs": [
        {
          "output_type": "stream",
          "name": "stderr",
          "text": [
            "/usr/local/lib/python3.7/dist-packages/numpy/core/_asarray.py:83: VisibleDeprecationWarning: Creating an ndarray from ragged nested sequences (which is a list-or-tuple of lists-or-tuples-or ndarrays with different lengths or shapes) is deprecated. If you meant to do this, you must specify 'dtype=object' when creating the ndarray\n",
            "  return array(a, dtype, copy=False, order=order)\n"
          ]
        }
      ],
      "source": [
        "structured_data = clean_data(raw_data)\n",
        "hashed_word = set_words(structured_data)\n",
        "indexed_words = index_words(hashed_word)\n",
        "x, y = compute_train_data(structured_data, indexed_words)\n",
        "\n",
        "x_train, x_validation, y_train, y_validation = train_test_split(x, y, test_size=0.2, random_state=42)\n",
        "\n",
        "max_length_of_comment = 200\n",
        "x_train = sequence.pad_sequences(x_train, maxlen=max_length_of_comment)\n",
        "x_validation = sequence.pad_sequences(x_validation, maxlen=max_length_of_comment)"
      ]
    },
    {
      "cell_type": "code",
      "execution_count": null,
      "metadata": {
        "colab": {
          "base_uri": "https://localhost:8080/"
        },
        "id": "7fQm80WyVlfH",
        "outputId": "04a7fc76-6817-4e5b-f1b9-c9f4bfb97833"
      },
      "outputs": [
        {
          "output_type": "stream",
          "name": "stdout",
          "text": [
            "[1 1 1 ... 0 1 1]\n"
          ]
        }
      ],
      "source": [
        "print(y_train)"
      ]
    },
    {
      "cell_type": "code",
      "execution_count": null,
      "metadata": {
        "colab": {
          "base_uri": "https://localhost:8080/"
        },
        "id": "W_asFzpOVozj",
        "outputId": "f4a637cb-56d7-4392-b3fa-20f8d2b277d6"
      },
      "outputs": [
        {
          "output_type": "stream",
          "name": "stdout",
          "text": [
            "[[    0     0     0 ...  1794 28720 24590]\n",
            " [    0     0     0 ... 29341 17826 17338]\n",
            " [    0     0     0 ... 36067  9813 24509]\n",
            " ...\n",
            " [    0     0     0 ... 36219 30623 36542]\n",
            " [    0     0     0 ... 18669  1477 23316]\n",
            " [    0     0     0 ... 15165 19639 22262]]\n"
          ]
        }
      ],
      "source": [
        "print(x_train)"
      ]
    },
    {
      "cell_type": "code",
      "execution_count": null,
      "metadata": {
        "id": "X4K_ClP_Xhg1"
      },
      "outputs": [],
      "source": [
        "vocab_size = len(indexed_words)"
      ]
    },
    {
      "cell_type": "code",
      "execution_count": null,
      "metadata": {
        "colab": {
          "base_uri": "https://localhost:8080/"
        },
        "id": "-7bG-_9QIsdw",
        "outputId": "11b06b03-852d-431e-fc60-05a39a36f44a"
      },
      "outputs": [
        {
          "output_type": "stream",
          "name": "stdout",
          "text": [
            "Model: \"sequential\"\n",
            "_________________________________________________________________\n",
            " Layer (type)                Output Shape              Param #   \n",
            "=================================================================\n",
            " embedding (Embedding)       (None, None, 100)         3910300   \n",
            "                                                                 \n",
            " bidirectional (Bidirectiona  (None, 200)              160800    \n",
            " l)                                                              \n",
            "                                                                 \n",
            " dense (Dense)               (None, 100)               20100     \n",
            "                                                                 \n",
            " dropout (Dropout)           (None, 100)               0         \n",
            "                                                                 \n",
            " dense_1 (Dense)             (None, 2)                 202       \n",
            "                                                                 \n",
            "=================================================================\n",
            "Total params: 4,091,402\n",
            "Trainable params: 4,091,402\n",
            "Non-trainable params: 0\n",
            "_________________________________________________________________\n"
          ]
        }
      ],
      "source": [
        "model = Sequential()\n",
        "\n",
        "model.add(Embedding(vocab_size + 1, 100))\n",
        "model.add(Bidirectional(LSTM(100, dropout=0.2, recurrent_dropout=0.2)))\n",
        "model.add(Dense(100, activation='relu'))\n",
        "model.add(Dropout(0.5))\n",
        "model.add(Dense(2, activation='softmax'))\n",
        "\n",
        "model.compile(loss='sparse_categorical_crossentropy',\n",
        "              optimizer='adam',\n",
        "              metrics=['accuracy'])\n",
        "\n",
        "model.summary()"
      ]
    },
    {
      "cell_type": "code",
      "execution_count": null,
      "metadata": {
        "colab": {
          "base_uri": "https://localhost:8080/"
        },
        "id": "SijWRpJcQZml",
        "outputId": "e691418c-a995-4098-bf54-5aeb75082d49"
      },
      "outputs": [
        {
          "output_type": "stream",
          "name": "stdout",
          "text": [
            "1924/1924 [==============================] - 1313s 678ms/step - loss: 0.2277 - accuracy: 0.9147 - val_loss: 0.1721 - val_accuracy: 0.9357\n"
          ]
        },
        {
          "output_type": "execute_result",
          "data": {
            "text/plain": [
              "<keras.callbacks.History at 0x7f3e768ff290>"
            ]
          },
          "metadata": {},
          "execution_count": 60
        }
      ],
      "source": [
        "batch_size = 20\n",
        "epoch = 1\n",
        "model.fit(x_train, y_train,\n",
        "              batch_size=batch_size,\n",
        "              epochs=epoch,\n",
        "              validation_data=(x_validation, y_validation), verbose=1)"
      ]
    },
    {
      "cell_type": "code",
      "execution_count": null,
      "metadata": {
        "id": "MatrSXXpUo-N"
      },
      "outputs": [],
      "source": [
        "raw_data_test = pd.read_csv('/content/drive/MyDrive/CI_test.csv')\n",
        "\n",
        "predicts_test = []\n",
        "for index, row in raw_data_test.iterrows():\n",
        "    pred_dict = dict()\n",
        "\n",
        "    title = row['title']\n",
        "    comment = row['comment']\n",
        "    text = str(title) + ' ' + str(comment)\n",
        "\n",
        "    \n",
        "    tokens = tokenizer(text)\n",
        "    indexes_of_tokens = [[indexed_words.get(token, indexed_words['reserved_for_new_words']) for token in tokens]]\n",
        "\n",
        "    seq_result = sequence.pad_sequences(indexes_of_tokens, maxlen=max_length_of_comment)\n",
        "\n",
        "    result = model.predict(seq_result)\n",
        "    pred_dict['id'] = row['id']\n",
        "    if result[0][0] > result[0][1]:\n",
        "      pred_dict['recommend'] = 'not_recommended'\n",
        "    else:\n",
        "      pred_dict['recommend'] = 'recommended'\n",
        "\n",
        "    predicts_test.append(pred_dict)"
      ]
    },
    {
      "cell_type": "code",
      "execution_count": null,
      "metadata": {
        "id": "D3zAjUrAhEZX"
      },
      "outputs": [],
      "source": [
        "import csv\n",
        "\n",
        "keys = predicts_test[0].keys()\n",
        "\n",
        "with open(f\"RNN batchsize_{batch_size} - epoch_{epoch}.csv\", 'w', newline='') as output_file:\n",
        "    dict_writer = csv.DictWriter(output_file, keys)\n",
        "    dict_writer.writeheader()\n",
        "    dict_writer.writerows(predicts_test)"
      ]
    },
    {
      "cell_type": "code",
      "execution_count": null,
      "metadata": {
        "id": "OmnlRhYijAHu"
      },
      "outputs": [],
      "source": [
        "# from keras.layers import CuDNNLSTM"
      ]
    },
    {
      "cell_type": "code",
      "execution_count": null,
      "metadata": {
        "colab": {
          "base_uri": "https://localhost:8080/"
        },
        "id": "wOtCguRpfd4V",
        "outputId": "7bc6bb43-8da4-49b8-be14-c33d6d33c048"
      },
      "outputs": [
        {
          "output_type": "stream",
          "name": "stdout",
          "text": [
            "Model: \"sequential_3\"\n",
            "_________________________________________________________________\n",
            " Layer (type)                Output Shape              Param #   \n",
            "=================================================================\n",
            " embedding_3 (Embedding)     (None, None, 50)          1955150   \n",
            "                                                                 \n",
            " bidirectional_3 (Bidirectio  (None, 100)              40400     \n",
            " nal)                                                            \n",
            "                                                                 \n",
            " dense_6 (Dense)             (None, 100)               10100     \n",
            "                                                                 \n",
            " dropout_3 (Dropout)         (None, 100)               0         \n",
            "                                                                 \n",
            " dense_7 (Dense)             (None, 2)                 202       \n",
            "                                                                 \n",
            "=================================================================\n",
            "Total params: 2,005,852\n",
            "Trainable params: 2,005,852\n",
            "Non-trainable params: 0\n",
            "_________________________________________________________________\n"
          ]
        }
      ],
      "source": [
        "model = Sequential()\n",
        "\n",
        "model.add(Embedding(vocab_size + 1, 50))\n",
        "model.add(Bidirectional(LSTM(50)))\n",
        "model.add(Dense(100, activation='relu'))\n",
        "model.add(Dropout(0.5))\n",
        "model.add(Dense(2, activation='softmax'))\n",
        "\n",
        "model.compile(loss='sparse_categorical_crossentropy',\n",
        "              optimizer='adam',\n",
        "              metrics=['accuracy'])\n",
        "\n",
        "model.summary()"
      ]
    },
    {
      "cell_type": "code",
      "execution_count": null,
      "metadata": {
        "colab": {
          "base_uri": "https://localhost:8080/"
        },
        "id": "ylP5n5_OfmRi",
        "outputId": "064cfdac-7273-420d-d52d-04173d1506a0"
      },
      "outputs": [
        {
          "output_type": "stream",
          "name": "stdout",
          "text": [
            "Epoch 1/2\n",
            "1924/1924 [==============================] - 319s 164ms/step - loss: 0.2226 - accuracy: 0.9143 - val_loss: 0.1964 - val_accuracy: 0.9262\n",
            "Epoch 2/2\n",
            "1924/1924 [==============================] - 266s 138ms/step - loss: 0.1233 - accuracy: 0.9595 - val_loss: 0.1751 - val_accuracy: 0.9392\n"
          ]
        },
        {
          "output_type": "execute_result",
          "data": {
            "text/plain": [
              "<keras.callbacks.History at 0x7f3e09231a50>"
            ]
          },
          "metadata": {},
          "execution_count": 64
        }
      ],
      "source": [
        "batch_size = 20\n",
        "epoch = 2\n",
        "model.fit(x_train, y_train,\n",
        "              batch_size=batch_size,\n",
        "              epochs=epoch,\n",
        "              validation_data=(x_validation, y_validation), verbose=1)"
      ]
    },
    {
      "cell_type": "code",
      "execution_count": null,
      "metadata": {
        "colab": {
          "base_uri": "https://localhost:8080/"
        },
        "id": "7CQYCGlIfuaS",
        "outputId": "ce65a992-9ee6-4fdb-a0b8-ed78af246c87"
      },
      "outputs": [
        {
          "output_type": "stream",
          "name": "stdout",
          "text": [
            "Epoch 1/2\n",
            "962/962 [==============================] - 155s 161ms/step - loss: 0.0694 - accuracy: 0.9786 - val_loss: 0.1897 - val_accuracy: 0.9390\n",
            "Epoch 2/2\n",
            "962/962 [==============================] - 156s 162ms/step - loss: 0.0484 - accuracy: 0.9864 - val_loss: 0.2010 - val_accuracy: 0.9354\n"
          ]
        },
        {
          "output_type": "execute_result",
          "data": {
            "text/plain": [
              "<keras.callbacks.History at 0x7f3e768d9450>"
            ]
          },
          "metadata": {},
          "execution_count": 65
        }
      ],
      "source": [
        "batch_size = 40\n",
        "epoch = 2\n",
        "model.fit(x_train, y_train,\n",
        "              batch_size=batch_size,\n",
        "              epochs=epoch,\n",
        "              validation_data=(x_validation, y_validation), verbose=1)"
      ]
    },
    {
      "cell_type": "code",
      "execution_count": null,
      "metadata": {
        "colab": {
          "base_uri": "https://localhost:8080/"
        },
        "id": "JaB9YIrZK-cK",
        "outputId": "98f47756-6f64-45e4-961c-d840dc61e8ed"
      },
      "outputs": [
        {
          "output_type": "stream",
          "name": "stdout",
          "text": [
            "Epoch 1/4\n",
            "1924/1924 [==============================] - 264s 137ms/step - loss: 0.0525 - accuracy: 0.9833 - val_loss: 0.2491 - val_accuracy: 0.9358\n",
            "Epoch 2/4\n",
            "1924/1924 [==============================] - 280s 145ms/step - loss: 0.0376 - accuracy: 0.9888 - val_loss: 0.2157 - val_accuracy: 0.9303\n",
            "Epoch 3/4\n",
            "1924/1924 [==============================] - 286s 149ms/step - loss: 0.0286 - accuracy: 0.9925 - val_loss: 0.3421 - val_accuracy: 0.9290\n",
            "Epoch 4/4\n",
            "1924/1924 [==============================] - 291s 151ms/step - loss: 0.0286 - accuracy: 0.9916 - val_loss: 0.3054 - val_accuracy: 0.9311\n"
          ]
        },
        {
          "output_type": "execute_result",
          "data": {
            "text/plain": [
              "<keras.callbacks.History at 0x7f3e092e46d0>"
            ]
          },
          "metadata": {},
          "execution_count": 66
        }
      ],
      "source": [
        "batch_size = 20\n",
        "epoch = 4\n",
        "model.fit(x_train, y_train,\n",
        "              batch_size=batch_size,\n",
        "              epochs=epoch,\n",
        "              validation_data=(x_validation, y_validation), verbose=1)"
      ]
    },
    {
      "cell_type": "code",
      "execution_count": null,
      "metadata": {
        "id": "PSalw8UTK_yc"
      },
      "outputs": [],
      "source": [
        "# batch_size = 40\n",
        "# epoch = 4\n",
        "# model.fit(x_train, y_train,\n",
        "#               batch_size=batch_size,\n",
        "#               epochs=epoch,\n",
        "#               validation_data=(x_validation, y_validation), verbose=1)"
      ]
    },
    {
      "cell_type": "code",
      "execution_count": null,
      "metadata": {
        "id": "PYlbFbHDLBFJ",
        "colab": {
          "base_uri": "https://localhost:8080/"
        },
        "outputId": "5ba2edf1-e588-42cd-bd88-2e8fe2f10844"
      },
      "outputs": [
        {
          "output_type": "stream",
          "name": "stdout",
          "text": [
            "Epoch 1/2\n",
            "3847/3847 [==============================] - 511s 133ms/step - loss: 0.0292 - accuracy: 0.9906 - val_loss: 0.2810 - val_accuracy: 0.9279\n",
            "Epoch 2/2\n",
            "3847/3847 [==============================] - 511s 133ms/step - loss: 0.0186 - accuracy: 0.9947 - val_loss: 0.3090 - val_accuracy: 0.9272\n"
          ]
        },
        {
          "output_type": "execute_result",
          "data": {
            "text/plain": [
              "<keras.callbacks.History at 0x7f3e052d0f50>"
            ]
          },
          "metadata": {},
          "execution_count": 68
        }
      ],
      "source": [
        "batch_size = 10\n",
        "epoch = 2\n",
        "model.fit(x_train, y_train,\n",
        "              batch_size=batch_size,\n",
        "              epochs=epoch,\n",
        "              validation_data=(x_validation, y_validation), verbose=1)"
      ]
    },
    {
      "cell_type": "code",
      "execution_count": null,
      "metadata": {
        "id": "58yomA65MWEN",
        "colab": {
          "base_uri": "https://localhost:8080/"
        },
        "outputId": "4f246a9b-e380-4d6f-f7df-dfabce1ab05e"
      },
      "outputs": [
        {
          "output_type": "stream",
          "name": "stdout",
          "text": [
            "Epoch 1/4\n",
            "3847/3847 [==============================] - 505s 131ms/step - loss: 0.0169 - accuracy: 0.9955 - val_loss: 0.4083 - val_accuracy: 0.9325\n",
            "Epoch 2/4\n",
            "3847/3847 [==============================] - 498s 130ms/step - loss: 0.0124 - accuracy: 0.9964 - val_loss: 0.3635 - val_accuracy: 0.9326\n",
            "Epoch 3/4\n",
            "3847/3847 [==============================] - 506s 132ms/step - loss: 0.0105 - accuracy: 0.9968 - val_loss: 0.4131 - val_accuracy: 0.9248\n",
            "Epoch 4/4\n",
            "3847/3847 [==============================] - 508s 132ms/step - loss: 0.0096 - accuracy: 0.9973 - val_loss: 0.4096 - val_accuracy: 0.9260\n"
          ]
        },
        {
          "output_type": "execute_result",
          "data": {
            "text/plain": [
              "<keras.callbacks.History at 0x7f3e0941aad0>"
            ]
          },
          "metadata": {},
          "execution_count": 69
        }
      ],
      "source": [
        "batch_size = 10\n",
        "epoch = 4\n",
        "model.fit(x_train, y_train,\n",
        "              batch_size=batch_size,\n",
        "              epochs=epoch,\n",
        "              validation_data=(x_validation, y_validation), verbose=1)"
      ]
    },
    {
      "cell_type": "code",
      "execution_count": null,
      "metadata": {
        "id": "L-LAW6cPMXZo",
        "colab": {
          "base_uri": "https://localhost:8080/"
        },
        "outputId": "fc5ca515-89c5-480c-d53f-892b26a41c3f"
      },
      "outputs": [
        {
          "output_type": "stream",
          "name": "stdout",
          "text": [
            "Model: \"sequential_2\"\n",
            "_________________________________________________________________\n",
            " Layer (type)                Output Shape              Param #   \n",
            "=================================================================\n",
            " embedding_2 (Embedding)     (None, None, 50)          1955150   \n",
            "                                                                 \n",
            " bidirectional_2 (Bidirectio  (None, 100)              40400     \n",
            " nal)                                                            \n",
            "                                                                 \n",
            " dense_4 (Dense)             (None, 100)               10100     \n",
            "                                                                 \n",
            " flatten (Flatten)           (None, 100)               0         \n",
            "                                                                 \n",
            " dropout_2 (Dropout)         (None, 100)               0         \n",
            "                                                                 \n",
            " dense_5 (Dense)             (None, 2)                 202       \n",
            "                                                                 \n",
            "=================================================================\n",
            "Total params: 2,005,852\n",
            "Trainable params: 2,005,852\n",
            "Non-trainable params: 0\n",
            "_________________________________________________________________\n"
          ]
        }
      ],
      "source": [
        "model = Sequential()\n",
        "\n",
        "model.add(Embedding(vocab_size + 1, 50))\n",
        "model.add(Bidirectional(LSTM(50)))\n",
        "model.add(Dense(100, activation='relu'))\n",
        "model.add(Flatten())\n",
        "model.add(Dropout(0.5))\n",
        "model.add(Dense(2, activation='tanh'))\n",
        "\n",
        "model.compile(loss='sparse_categorical_crossentropy',\n",
        "              optimizer='adam',\n",
        "              metrics=['accuracy'])\n",
        "\n",
        "model.summary()"
      ]
    },
    {
      "cell_type": "code",
      "execution_count": null,
      "metadata": {
        "id": "K3-sDRTXN5pJ",
        "colab": {
          "base_uri": "https://localhost:8080/"
        },
        "outputId": "41218ab0-4026-4c60-c37e-67dcf8d67e68"
      },
      "outputs": [
        {
          "output_type": "stream",
          "name": "stdout",
          "text": [
            "Epoch 1/2\n",
            "1924/1924 [==============================] - 276s 142ms/step - loss: 0.7105 - accuracy: 0.5013 - val_loss: 0.6931 - val_accuracy: 0.3934\n",
            "Epoch 2/2\n",
            "1924/1924 [==============================] - 270s 140ms/step - loss: 0.6942 - accuracy: 0.4672 - val_loss: 0.6931 - val_accuracy: 0.6919\n"
          ]
        },
        {
          "output_type": "execute_result",
          "data": {
            "text/plain": [
              "<keras.callbacks.History at 0x7f3e05fcce10>"
            ]
          },
          "metadata": {},
          "execution_count": 71
        }
      ],
      "source": [
        "batch_size = 20\n",
        "epoch = 2\n",
        "model.fit(x_train, y_train,\n",
        "              batch_size=batch_size,\n",
        "              epochs=epoch,\n",
        "              validation_data=(x_validation, y_validation), verbose=1)"
      ]
    },
    {
      "cell_type": "code",
      "execution_count": null,
      "metadata": {
        "id": "7rXFlZi9N7rA",
        "colab": {
          "base_uri": "https://localhost:8080/"
        },
        "outputId": "d22423e0-92f0-44d6-91da-67f8478665f8"
      },
      "outputs": [
        {
          "output_type": "stream",
          "name": "stdout",
          "text": [
            "Model: \"sequential_4\"\n",
            "_________________________________________________________________\n",
            " Layer (type)                Output Shape              Param #   \n",
            "=================================================================\n",
            " embedding_4 (Embedding)     (None, None, 128)         5005184   \n",
            "                                                                 \n",
            " bidirectional_4 (Bidirectio  (None, 256)              263168    \n",
            " nal)                                                            \n",
            "                                                                 \n",
            " dense_8 (Dense)             (None, 128)               32896     \n",
            "                                                                 \n",
            " flatten_1 (Flatten)         (None, 128)               0         \n",
            "                                                                 \n",
            " dropout_4 (Dropout)         (None, 128)               0         \n",
            "                                                                 \n",
            " dense_9 (Dense)             (None, 2)                 258       \n",
            "                                                                 \n",
            "=================================================================\n",
            "Total params: 5,301,506\n",
            "Trainable params: 5,301,506\n",
            "Non-trainable params: 0\n",
            "_________________________________________________________________\n"
          ]
        }
      ],
      "source": [
        "model = Sequential()\n",
        "\n",
        "model.add(Embedding(vocab_size + 1, 128))\n",
        "model.add(Bidirectional(LSTM(128)))\n",
        "model.add(Dense(128, activation='relu'))\n",
        "model.add(Flatten())\n",
        "model.add(Dropout(0.5))\n",
        "model.add(Dense(2, activation='tanh'))\n",
        "\n",
        "model.compile(loss='sparse_categorical_crossentropy',\n",
        "              optimizer='adam',\n",
        "              metrics=['accuracy'])\n",
        "\n",
        "model.summary()"
      ]
    },
    {
      "cell_type": "code",
      "source": [
        "batch_size = 20\n",
        "epoch = 2\n",
        "model.fit(x_train, y_train,\n",
        "              batch_size=batch_size,\n",
        "              epochs=epoch,\n",
        "              validation_data=(x_validation, y_validation), verbose=1)"
      ],
      "metadata": {
        "colab": {
          "base_uri": "https://localhost:8080/"
        },
        "id": "kXdhzKMKwyRL",
        "outputId": "91dc0da4-61b3-44b3-e1f1-028474def304"
      },
      "execution_count": null,
      "outputs": [
        {
          "output_type": "stream",
          "name": "stdout",
          "text": [
            "Epoch 1/2\n",
            "1924/1924 [==============================] - 748s 385ms/step - loss: 0.6948 - accuracy: 0.5804 - val_loss: 0.6931 - val_accuracy: 0.6915\n",
            "Epoch 2/2\n",
            "1924/1924 [==============================] - 730s 379ms/step - loss: 0.6932 - accuracy: 0.5435 - val_loss: 0.6931 - val_accuracy: 0.6915\n"
          ]
        },
        {
          "output_type": "execute_result",
          "data": {
            "text/plain": [
              "<keras.callbacks.History at 0x7f3e0358fa90>"
            ]
          },
          "metadata": {},
          "execution_count": 75
        }
      ]
    },
    {
      "cell_type": "code",
      "source": [
        "model = Sequential()\n",
        "\n",
        "model.add(Embedding(vocab_size + 1, 128))\n",
        "model.add(Bidirectional(LSTM(128)))\n",
        "model.add(Dense(128, activation='relu'))\n",
        "model.add(Flatten())\n",
        "model.add(Dropout(0.5))\n",
        "model.add(Dense(2, activation='softmax'))\n",
        "\n",
        "model.compile(loss='sparse_categorical_crossentropy',\n",
        "              optimizer='adam',\n",
        "              metrics=['accuracy'])\n",
        "\n",
        "model.summary()"
      ],
      "metadata": {
        "colab": {
          "base_uri": "https://localhost:8080/"
        },
        "id": "2de9jojXw60z",
        "outputId": "e43595d6-c0dc-4ae4-f05d-618f44a1acfb"
      },
      "execution_count": null,
      "outputs": [
        {
          "output_type": "stream",
          "name": "stdout",
          "text": [
            "Model: \"sequential_5\"\n",
            "_________________________________________________________________\n",
            " Layer (type)                Output Shape              Param #   \n",
            "=================================================================\n",
            " embedding_5 (Embedding)     (None, None, 128)         5005184   \n",
            "                                                                 \n",
            " bidirectional_5 (Bidirectio  (None, 256)              263168    \n",
            " nal)                                                            \n",
            "                                                                 \n",
            " dense_10 (Dense)            (None, 128)               32896     \n",
            "                                                                 \n",
            " flatten_2 (Flatten)         (None, 128)               0         \n",
            "                                                                 \n",
            " dropout_5 (Dropout)         (None, 128)               0         \n",
            "                                                                 \n",
            " dense_11 (Dense)            (None, 2)                 258       \n",
            "                                                                 \n",
            "=================================================================\n",
            "Total params: 5,301,506\n",
            "Trainable params: 5,301,506\n",
            "Non-trainable params: 0\n",
            "_________________________________________________________________\n"
          ]
        }
      ]
    },
    {
      "cell_type": "code",
      "source": [
        "batch_size = 20\n",
        "epoch = 2\n",
        "model.fit(x_train, y_train,\n",
        "              batch_size=batch_size,\n",
        "              epochs=epoch,\n",
        "              validation_data=(x_validation, y_validation), verbose=1)"
      ],
      "metadata": {
        "colab": {
          "base_uri": "https://localhost:8080/"
        },
        "id": "xoC-sCIJ204r",
        "outputId": "23364007-3278-4d8b-f737-b48549ca6816"
      },
      "execution_count": null,
      "outputs": [
        {
          "output_type": "stream",
          "name": "stdout",
          "text": [
            "Epoch 1/2\n",
            "1924/1924 [==============================] - 745s 384ms/step - loss: 0.2258 - accuracy: 0.9141 - val_loss: 0.2381 - val_accuracy: 0.8980\n",
            "Epoch 2/2\n",
            "1924/1924 [==============================] - 734s 381ms/step - loss: 0.1158 - accuracy: 0.9591 - val_loss: 0.1603 - val_accuracy: 0.9408\n"
          ]
        },
        {
          "output_type": "execute_result",
          "data": {
            "text/plain": [
              "<keras.callbacks.History at 0x7f3e0968b690>"
            ]
          },
          "metadata": {},
          "execution_count": 79
        }
      ]
    },
    {
      "cell_type": "code",
      "source": [
        ""
      ],
      "metadata": {
        "id": "K80KOuLl27X9"
      },
      "execution_count": null,
      "outputs": []
    }
  ],
  "metadata": {
    "accelerator": "GPU",
    "colab": {
      "collapsed_sections": [],
      "name": "FinalProject.ipynb",
      "provenance": []
    },
    "kernelspec": {
      "display_name": "Python 3",
      "name": "python3"
    },
    "language_info": {
      "name": "python"
    }
  },
  "nbformat": 4,
  "nbformat_minor": 0
}